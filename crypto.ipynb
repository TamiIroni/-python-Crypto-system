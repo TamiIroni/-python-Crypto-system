{
 "cells": [
  {
   "cell_type": "code",
   "execution_count": 2,
   "metadata": {},
   "outputs": [],
   "source": [
    "import pandas as pd\n",
    "import xlrd\n",
    "from matplotlib import pyplot as plt\n",
    "import numpy as np\n",
    "import openpyxl\n",
    "import matplotlib\n",
    "from sklearn.model_selection import train_test_split\n",
    "from sklearn.linear_model import LogisticRegression\n",
    "from sklearn.metrics import accuracy_score, confusion_matrix, classification_report\n",
    "from sklearn.ensemble import RandomForestRegressor\n",
    "from sklearn.metrics import mean_squared_error, r2_score\n",
    "from imblearn.over_sampling import SMOTE\n",
    "from sklearn.model_selection import train_test_split\n",
    "import math\n",
    "from sklearn.svm import SVR"
   ]
  },
  {
   "cell_type": "code",
   "execution_count": 3,
   "metadata": {},
   "outputs": [
    {
     "data": {
      "text/html": [
       "<div>\n",
       "<style scoped>\n",
       "    .dataframe tbody tr th:only-of-type {\n",
       "        vertical-align: middle;\n",
       "    }\n",
       "\n",
       "    .dataframe tbody tr th {\n",
       "        vertical-align: top;\n",
       "    }\n",
       "\n",
       "    .dataframe thead th {\n",
       "        text-align: right;\n",
       "    }\n",
       "</style>\n",
       "<table border=\"1\" class=\"dataframe\">\n",
       "  <thead>\n",
       "    <tr style=\"text-align: right;\">\n",
       "      <th></th>\n",
       "      <th>Date</th>\n",
       "      <th>DATE</th>\n",
       "      <th>Price</th>\n",
       "      <th>Open</th>\n",
       "      <th>High</th>\n",
       "      <th>Low</th>\n",
       "      <th>Vol.</th>\n",
       "      <th>Change %</th>\n",
       "      <th>SN&amp;P Adjusted</th>\n",
       "      <th>DXY Adjusted</th>\n",
       "      <th>GOLD Adjusted</th>\n",
       "      <th>ETH Price</th>\n",
       "      <th>ETH Vol.</th>\n",
       "      <th>OIL Price Adjusted</th>\n",
       "      <th>Days from the last halving</th>\n",
       "      <th>BTC_Hashprice</th>\n",
       "      <th>Crypto Volatility Index</th>\n",
       "      <th>Target Value</th>\n",
       "    </tr>\n",
       "  </thead>\n",
       "  <tbody>\n",
       "    <tr>\n",
       "      <th>0</th>\n",
       "      <td>04/21/2024</td>\n",
       "      <td>2024-04-21</td>\n",
       "      <td>64902.8</td>\n",
       "      <td>64942.1</td>\n",
       "      <td>65680.6</td>\n",
       "      <td>64618.4</td>\n",
       "      <td>45.17K</td>\n",
       "      <td>-0.0009</td>\n",
       "      <td>4953.56</td>\n",
       "      <td>105.984</td>\n",
       "      <td>2390.45</td>\n",
       "      <td>3169.62</td>\n",
       "      <td>276.66K</td>\n",
       "      <td>83.14</td>\n",
       "      <td>2</td>\n",
       "      <td>0.000003</td>\n",
       "      <td>75.1890</td>\n",
       "      <td>0</td>\n",
       "    </tr>\n",
       "    <tr>\n",
       "      <th>1</th>\n",
       "      <td>04/20/2024</td>\n",
       "      <td>2024-04-20</td>\n",
       "      <td>64961.1</td>\n",
       "      <td>63817.6</td>\n",
       "      <td>65375.6</td>\n",
       "      <td>63131.7</td>\n",
       "      <td>49.33K</td>\n",
       "      <td>0.0182</td>\n",
       "      <td>4953.56</td>\n",
       "      <td>105.984</td>\n",
       "      <td>2390.45</td>\n",
       "      <td>3156.63</td>\n",
       "      <td>256.05K</td>\n",
       "      <td>83.14</td>\n",
       "      <td>1</td>\n",
       "      <td>0.000002</td>\n",
       "      <td>74.3407</td>\n",
       "      <td>0</td>\n",
       "    </tr>\n",
       "    <tr>\n",
       "      <th>2</th>\n",
       "      <td>04/19/2024</td>\n",
       "      <td>2024-04-19</td>\n",
       "      <td>63799.1</td>\n",
       "      <td>63480.5</td>\n",
       "      <td>65441.2</td>\n",
       "      <td>59693.3</td>\n",
       "      <td>150.34K</td>\n",
       "      <td>0.0050</td>\n",
       "      <td>4953.56</td>\n",
       "      <td>105.984</td>\n",
       "      <td>2390.45</td>\n",
       "      <td>3056.23</td>\n",
       "      <td>645.65K</td>\n",
       "      <td>83.14</td>\n",
       "      <td>1439</td>\n",
       "      <td>0.000002</td>\n",
       "      <td>73.6438</td>\n",
       "      <td>0</td>\n",
       "    </tr>\n",
       "    <tr>\n",
       "      <th>3</th>\n",
       "      <td>04/18/2024</td>\n",
       "      <td>2024-04-18</td>\n",
       "      <td>63481.4</td>\n",
       "      <td>61278.9</td>\n",
       "      <td>64092.4</td>\n",
       "      <td>60822.3</td>\n",
       "      <td>97.38K</td>\n",
       "      <td>0.0359</td>\n",
       "      <td>5001.89</td>\n",
       "      <td>105.982</td>\n",
       "      <td>2378.25</td>\n",
       "      <td>3064.48</td>\n",
       "      <td>423.99K</td>\n",
       "      <td>82.73</td>\n",
       "      <td>1438</td>\n",
       "      <td>0.000002</td>\n",
       "      <td>72.4399</td>\n",
       "      <td>1</td>\n",
       "    </tr>\n",
       "    <tr>\n",
       "      <th>4</th>\n",
       "      <td>04/17/2024</td>\n",
       "      <td>2024-04-17</td>\n",
       "      <td>61278.9</td>\n",
       "      <td>63802.3</td>\n",
       "      <td>64451.5</td>\n",
       "      <td>59820.8</td>\n",
       "      <td>118.92K</td>\n",
       "      <td>-0.0396</td>\n",
       "      <td>5007.25</td>\n",
       "      <td>105.764</td>\n",
       "      <td>2360.81</td>\n",
       "      <td>2985.82</td>\n",
       "      <td>524.88K</td>\n",
       "      <td>82.69</td>\n",
       "      <td>1437</td>\n",
       "      <td>0.000002</td>\n",
       "      <td>74.0805</td>\n",
       "      <td>1</td>\n",
       "    </tr>\n",
       "  </tbody>\n",
       "</table>\n",
       "</div>"
      ],
      "text/plain": [
       "         Date       DATE    Price     Open     High      Low     Vol.  \\\n",
       "0  04/21/2024 2024-04-21  64902.8  64942.1  65680.6  64618.4   45.17K   \n",
       "1  04/20/2024 2024-04-20  64961.1  63817.6  65375.6  63131.7   49.33K   \n",
       "2  04/19/2024 2024-04-19  63799.1  63480.5  65441.2  59693.3  150.34K   \n",
       "3  04/18/2024 2024-04-18  63481.4  61278.9  64092.4  60822.3   97.38K   \n",
       "4  04/17/2024 2024-04-17  61278.9  63802.3  64451.5  59820.8  118.92K   \n",
       "\n",
       "   Change %  SN&P Adjusted  DXY Adjusted  GOLD Adjusted  ETH Price ETH Vol.  \\\n",
       "0   -0.0009        4953.56       105.984        2390.45    3169.62  276.66K   \n",
       "1    0.0182        4953.56       105.984        2390.45    3156.63  256.05K   \n",
       "2    0.0050        4953.56       105.984        2390.45    3056.23  645.65K   \n",
       "3    0.0359        5001.89       105.982        2378.25    3064.48  423.99K   \n",
       "4   -0.0396        5007.25       105.764        2360.81    2985.82  524.88K   \n",
       "\n",
       "   OIL Price Adjusted  Days from the last halving  BTC_Hashprice  \\\n",
       "0               83.14                           2       0.000003   \n",
       "1               83.14                           1       0.000002   \n",
       "2               83.14                        1439       0.000002   \n",
       "3               82.73                        1438       0.000002   \n",
       "4               82.69                        1437       0.000002   \n",
       "\n",
       "   Crypto Volatility Index  Target Value  \n",
       "0                  75.1890             0  \n",
       "1                  74.3407             0  \n",
       "2                  73.6438             0  \n",
       "3                  72.4399             1  \n",
       "4                  74.0805             1  "
      ]
     },
     "execution_count": 3,
     "metadata": {},
     "output_type": "execute_result"
    }
   ],
   "source": [
    "data=pd.read_excel('E9367CD7-C9BA-4C8B-86C9-53837D81AD49.Bitcoin Historical Data (1).xlsx')\n",
    "data.head()"
   ]
  },
  {
   "cell_type": "code",
   "execution_count": 4,
   "metadata": {},
   "outputs": [
    {
     "data": {
      "image/png": "[encoded data removed]",
      "text/plain": [
       "<Figure size 640x480 with 1 Axes>"
      ]
     },
     "metadata": {},
     "output_type": "display_data"
    }
   ],
   "source": [
    "price=data['Price']\n",
    "minPrice=price.min()\n",
    "maxPrice=price.max()\n",
    "step = 5000\n",
    "xpoints = np.arange(minPrice, maxPrice+step,step) #כל הספרות בדילוגים של 500\n",
    "# חישוב תדירות לכל טווח מחיר\n",
    "hist, bins = np.histogram(price, bins=xpoints)\n",
    "plt.plot(xpoints[:-1], hist,label=\"Price\")\n",
    "plt.title(\"distribution\")\n",
    "plt.xlabel(\"sum\")\n",
    "plt.ylabel(\"cnt\")\n",
    "plt.show()"
   ]
  },
  {
   "cell_type": "code",
   "execution_count": 5,
   "metadata": {},
   "outputs": [
    {
     "name": "stdout",
     "output_type": "stream",
     "text": [
      "   ranges_price Price Target Value     \n",
      "                count         mean  sum\n",
      "0        0-4999   402     0.363184  146\n",
      "1     5000-9999   717     0.299861  215\n",
      "2   10000-14999   244     0.331967   81\n",
      "3   15000-19999   183     0.251366   46\n",
      "4   20000-24999   165     0.260606   43\n",
      "5   25000-29999   219     0.178082   39\n",
      "6   30000-34999   108     0.287037   31\n",
      "7   35000-39999   140     0.357143   50\n",
      "8   40000-44999   152     0.263158   40\n",
      "9   45000-49999   107     0.327103   35\n",
      "10  50000-54999    51     0.352941   18\n",
      "11  55000-59999    67     0.328358   22\n",
      "12  60000-64999    52     0.326923   17\n",
      "13  65000-69999    32     0.406250   13\n",
      "14  70000-74999     9     0.222222    2\n"
     ]
    },
    {
     "name": "stderr",
     "output_type": "stream",
     "text": [
      "C:\\Users\\user1\\AppData\\Local\\Temp\\ipykernel_106608\\3001503019.py:14: FutureWarning: The default value of observed=False is deprecated and will change to observed=True in a future version of pandas. Specify observed=False to silence this warning and retain the current behavior\n",
      "  df_Price.pivot_table(\n"
     ]
    }
   ],
   "source": [
    "min_val = int(0)\n",
    "max_val = int(data['Price'].max())\n",
    "data.Price=data.Price.astype(int)\n",
    "ranges = list(range(min_val, max_val + 5000, 5000))\n",
    "data['ranges_price'] = pd.cut(data['Price'], bins=ranges, labels=[f\"{r}-{r+4999}\" for r in ranges[:-1]])\n",
    "# print(data.ranges_price)\n",
    "\n",
    "\n",
    "import copy\n",
    "df_Price = copy.deepcopy(data)\n",
    "\n",
    "df_Price['Price'] = df_Price['Price'].astype(int)\n",
    "grouped_data = (\n",
    "    df_Price.pivot_table(\n",
    "        index='ranges_price',\n",
    "        values=['Price', 'Target Value'],\n",
    "                aggfunc={'Price': 'count','Target Value': ['sum', 'mean']},\n",
    "\n",
    "    ).reset_index()\n",
    ")\n",
    "print(grouped_data)\n"
   ]
  },
  {
   "cell_type": "code",
   "execution_count": 6,
   "metadata": {},
   "outputs": [
    {
     "name": "stdout",
     "output_type": "stream",
     "text": [
      "------Consolidation of variables------\n"
     ]
    },
    {
     "data": {
      "text/html": [
       "<div>\n",
       "<style scoped>\n",
       "    .dataframe tbody tr th:only-of-type {\n",
       "        vertical-align: middle;\n",
       "    }\n",
       "\n",
       "    .dataframe tbody tr th {\n",
       "        vertical-align: top;\n",
       "    }\n",
       "\n",
       "    .dataframe thead th {\n",
       "        text-align: right;\n",
       "    }\n",
       "</style>\n",
       "<table border=\"1\" class=\"dataframe\">\n",
       "  <thead>\n",
       "    <tr style=\"text-align: right;\">\n",
       "      <th></th>\n",
       "      <th>Price</th>\n",
       "      <th>Price_final_range</th>\n",
       "    </tr>\n",
       "  </thead>\n",
       "  <tbody>\n",
       "    <tr>\n",
       "      <th>0</th>\n",
       "      <td>64902</td>\n",
       "      <td>grater45000</td>\n",
       "    </tr>\n",
       "    <tr>\n",
       "      <th>1</th>\n",
       "      <td>64961</td>\n",
       "      <td>grater45000</td>\n",
       "    </tr>\n",
       "    <tr>\n",
       "      <th>2</th>\n",
       "      <td>63799</td>\n",
       "      <td>grater45000</td>\n",
       "    </tr>\n",
       "    <tr>\n",
       "      <th>3</th>\n",
       "      <td>63481</td>\n",
       "      <td>grater45000</td>\n",
       "    </tr>\n",
       "    <tr>\n",
       "      <th>4</th>\n",
       "      <td>61278</td>\n",
       "      <td>grater45000</td>\n",
       "    </tr>\n",
       "    <tr>\n",
       "      <th>...</th>\n",
       "      <td>...</td>\n",
       "      <td>...</td>\n",
       "    </tr>\n",
       "    <tr>\n",
       "      <th>95</th>\n",
       "      <td>42768</td>\n",
       "      <td>24999-45000</td>\n",
       "    </tr>\n",
       "    <tr>\n",
       "      <th>96</th>\n",
       "      <td>43145</td>\n",
       "      <td>24999-45000</td>\n",
       "    </tr>\n",
       "    <tr>\n",
       "      <th>97</th>\n",
       "      <td>42510</td>\n",
       "      <td>24999-45000</td>\n",
       "    </tr>\n",
       "    <tr>\n",
       "      <th>98</th>\n",
       "      <td>41746</td>\n",
       "      <td>24999-45000</td>\n",
       "    </tr>\n",
       "    <tr>\n",
       "      <th>99</th>\n",
       "      <td>42851</td>\n",
       "      <td>24999-45000</td>\n",
       "    </tr>\n",
       "  </tbody>\n",
       "</table>\n",
       "<p>100 rows × 2 columns</p>\n",
       "</div>"
      ],
      "text/plain": [
       "    Price Price_final_range\n",
       "0   64902       grater45000\n",
       "1   64961       grater45000\n",
       "2   63799       grater45000\n",
       "3   63481       grater45000\n",
       "4   61278       grater45000\n",
       "..    ...               ...\n",
       "95  42768       24999-45000\n",
       "96  43145       24999-45000\n",
       "97  42510       24999-45000\n",
       "98  41746       24999-45000\n",
       "99  42851       24999-45000\n",
       "\n",
       "[100 rows x 2 columns]"
      ]
     },
     "execution_count": 6,
     "metadata": {},
     "output_type": "execute_result"
    }
   ],
   "source": [
    "print(\"------Consolidation of variables------\")\n",
    "\n",
    "data[\"Price_final_range\"]= np.where(data[\"Price\"]<=24999,\"less24999\",np.where(data[\"Price\"] > 45000,\"grater45000\",\"24999-45000\"))\n",
    "data_new1=data.loc[:,[\"Price\",\"Price_final_range\"]]\n",
    "data_new1.head(100)"
   ]
  },
  {
   "cell_type": "code",
   "execution_count": 7,
   "metadata": {},
   "outputs": [
    {
     "name": "stdout",
     "output_type": "stream",
     "text": [
      "  Price_final_range Price Target Value     \n",
      "                    count         mean  sum\n",
      "0       24999-45000   619     0.258481  160\n",
      "1       grater45000   318     0.336478  107\n",
      "2         less24999  1711     0.310345  531\n"
     ]
    }
   ],
   "source": [
    "df_Price_final_range = (\n",
    "    data.pivot_table(\n",
    "        index='Price_final_range',\n",
    "        values=['Price', 'Target Value'],\n",
    "                aggfunc={'Price': 'count','Target Value': ['sum', 'mean']},).reset_index())\n",
    "# הצג את הטבלה החדשה\n",
    "print(df_Price_final_range)"
   ]
  },
  {
   "cell_type": "code",
   "execution_count": 8,
   "metadata": {},
   "outputs": [
    {
     "name": "stdout",
     "output_type": "stream",
     "text": [
      "0        45.17\n",
      "1        49.33\n",
      "2       150.34\n",
      "3        97.38\n",
      "4       118.92\n",
      "         ...  \n",
      "2643     37.90\n",
      "2644     58.87\n",
      "2645     32.74\n",
      "2646     47.93\n",
      "2647     40.38\n",
      "Name: Vol., Length: 2648, dtype: float64\n"
     ]
    }
   ],
   "source": [
    "data['Vol.'] = data['Vol.'].str.replace('[a-zA-Z]', '', regex=True)\n",
    "data['Vol.'] = pd.to_numeric(data['Vol.'])\n",
    "print(data['Vol.'])\n",
    "Vol=data['Vol.']\n"
   ]
  },
  {
   "cell_type": "code",
   "execution_count": 9,
   "metadata": {},
   "outputs": [
    {
     "data": {
      "image/png": "[encoded data removed]",
      "text/plain": [
       "<Figure size 640x480 with 1 Axes>"
      ]
     },
     "metadata": {},
     "output_type": "display_data"
    }
   ],
   "source": [
    "minVol=Vol.min()\n",
    "maxVol=Vol.max()\n",
    "step = 10\n",
    "xpoints = np.arange(minVol, maxVol + step,step) #כל הספרות בדילוגים של 1\n",
    "hist, bins = np.histogram(Vol, bins=xpoints)\n",
    "plt.plot(xpoints[:-1], hist,label=\"Vol\")\n",
    "plt.title(\"distribution\")\n",
    "plt.xlabel(\"sum\")\n",
    "plt.ylabel(\"cnt\")\n",
    "plt.legend()\n",
    "plt.show()"
   ]
  },
  {
   "cell_type": "code",
   "execution_count": 10,
   "metadata": {},
   "outputs": [
    {
     "name": "stdout",
     "output_type": "stream",
     "text": [
      "           Target Value       Vol.\n",
      "                   mean  sum count\n",
      "ranges_Vol                        \n",
      "0-99           0.220859  252  1141\n",
      "100-199        0.431304  248   575\n",
      "200-299        0.412245  101   245\n",
      "300-399        0.321918   47   146\n",
      "400-499        0.171053   26   152\n",
      "500-599        0.207692   27   130\n",
      "600-699        0.336957   31    92\n",
      "700-799        0.328947   25    76\n",
      "800-899        0.380952   16    42\n",
      "900-999        0.510204   25    49\n"
     ]
    },
    {
     "name": "stderr",
     "output_type": "stream",
     "text": [
      "C:\\Users\\user1\\AppData\\Local\\Temp\\ipykernel_106608\\3268698819.py:9: FutureWarning: The default value of observed=False is deprecated and will change to observed=True in a future version of pandas. Specify observed=False to silence this warning and retain the current behavior\n",
      "  grouped_data = df_Vol.pivot_table(\n"
     ]
    }
   ],
   "source": [
    "min_val = int(data['Vol.'].min())\n",
    "max_val = int(data['Vol.'].max())\n",
    "ranges = list(range(min_val, max_val + 100, 100)) \n",
    "data['ranges_Vol'] = pd.cut(data['Vol.'], bins=ranges, labels=[f\"{r}-{r+99}\" for r in ranges[:-1]])\n",
    "# print(data['ranges_Vol'])\n",
    "import copy\n",
    "df_Vol = copy.deepcopy(data)\n",
    "\n",
    "grouped_data = df_Vol.pivot_table( \n",
    "    index='ranges_Vol',\n",
    "    values=['Vol.', 'Target Value'], \n",
    "    aggfunc={'Vol.': 'count', 'Target Value': ['sum', 'mean']}, )\n",
    "\n",
    "print(grouped_data)\n"
   ]
  },
  {
   "cell_type": "code",
   "execution_count": 11,
   "metadata": {},
   "outputs": [],
   "source": [
    "data[\"Vol_final_range\"]= np.where(data[\"Vol.\"]<=400,\"less400\",np.where(data[\"Vol.\"] > 600, \"getter600\",\"400-600\"))\n",
    "data_new=data.loc[:,[\"Vol.\",\"Vol_final_range\"]]\n"
   ]
  },
  {
   "cell_type": "code",
   "execution_count": 12,
   "metadata": {},
   "outputs": [
    {
     "name": "stdout",
     "output_type": "stream",
     "text": [
      "  Vol_final_range Target Value       Vol.\n",
      "                          mean  sum count\n",
      "0         400-600     0.187943   53   282\n",
      "1       getter600     0.374517   97   259\n",
      "2         less400     0.307546  648  2107\n"
     ]
    }
   ],
   "source": [
    "Vol_final_range = (\n",
    "    data.pivot_table(\n",
    "        index='Vol_final_range',\n",
    "        values=['Vol.', 'Target Value'],\n",
    "                aggfunc={'Vol.': 'count','Target Value': ['sum', 'mean']},).reset_index())\n",
    "# # הצג את הטבלה החדשה\n",
    "print(Vol_final_range)"
   ]
  },
  {
   "cell_type": "code",
   "execution_count": 13,
   "metadata": {},
   "outputs": [
    {
     "data": {
      "image/png": "[encoded data removed]",
      "text/plain": [
       "<Figure size 640x480 with 1 Axes>"
      ]
     },
     "metadata": {},
     "output_type": "display_data"
    }
   ],
   "source": [
    "change=data['Change %']\n",
    "minChange=change.min()\n",
    "maxChange=change.max()\n",
    "step = 0.1\n",
    "xpoints = np.arange(minChange, maxChange+step,step) \n",
    "hist, bins = np.histogram(change, bins=xpoints)\n",
    "plt.plot(xpoints[:-1], hist,label=\"Change\")\n",
    "plt.title(\"distribution\")\n",
    "plt.xlabel(\"sum\")\n",
    "plt.ylabel(\"cnt\")\n",
    "plt.legend()\n",
    "plt.show()"
   ]
  },
  {
   "cell_type": "code",
   "execution_count": 14,
   "metadata": {},
   "outputs": [
    {
     "name": "stdout",
     "output_type": "stream",
     "text": [
      "0       -0.01--1.00\n",
      "1        0.01--0.98\n",
      "2       -0.01--1.00\n",
      "3        0.03--0.96\n",
      "4       -0.05--1.04\n",
      "           ...     \n",
      "2643    -0.01--1.00\n",
      "2644    -0.04--1.03\n",
      "2645    -0.01--1.00\n",
      "2646    -0.01--1.00\n",
      "2647     0.02--0.97\n",
      "Name: ranges_Change, Length: 2648, dtype: category\n",
      "Categories (65, object): ['-0.39--1.38' < '-0.38--1.37' < '-0.37--1.36' < '-0.36--1.35' ... '0.22--0.77' < '0.23--0.76' < '0.24--0.75' < '0.25--0.74']\n",
      "              Change % Target Value    \n",
      "                 count         mean sum\n",
      "ranges_Change                          \n",
      "-0.39--1.38          0          NaN   0\n",
      "-0.38--1.37          0          NaN   0\n",
      "-0.37--1.36          0          NaN   0\n",
      "-0.36--1.35          0          NaN   0\n",
      "-0.35--1.34          0          NaN   0\n",
      "...                ...          ...  ..\n",
      "0.21--0.78           0          NaN   0\n",
      "0.22--0.77           1          1.0   1\n",
      "0.23--0.76           0          NaN   0\n",
      "0.24--0.75           0          NaN   0\n",
      "0.25--0.74           1          1.0   1\n",
      "\n",
      "[65 rows x 3 columns]\n"
     ]
    },
    {
     "name": "stderr",
     "output_type": "stream",
     "text": [
      "C:\\Users\\user1\\AppData\\Local\\Temp\\ipykernel_106608\\1390758164.py:17: FutureWarning: The default value of observed=False is deprecated and will change to observed=True in a future version of pandas. Specify observed=False to silence this warning and retain the current behavior\n",
      "  grouped_data = df_Vol.pivot_table(\n"
     ]
    }
   ],
   "source": [
    "data[\"Change %\"] = data[\"Change %\"]\n",
    "df = pd.DataFrame(data)\n",
    "# עיגול הערכים בעמודה \"Change %\" לשתי ספרות אחרי הנקודה\n",
    "df['Change %'] = df['Change %'].round(2)\n",
    "# print(df['Change %'])\n",
    "min_val_Change = np.min(df['Change %'])\n",
    "max_val_Change = np.max(df['Change %'])\n",
    "Change = np.arange(min_val_Change, max_val_Change + 0.01, 0.01)\n",
    "labels = [f\"{r:.2f}-{r+(-0.99):.2f}\" for r in Change[:-1]]\n",
    "data['ranges_Change'] = pd.cut(df['Change %'], bins=Change, labels=labels)\n",
    "\n",
    "print(data['ranges_Change'])\n",
    "\n",
    "import copy\n",
    "df_Vol = copy.deepcopy(data)\n",
    "\n",
    "grouped_data = df_Vol.pivot_table( \n",
    "    index='ranges_Change',\n",
    "    values=['Change %', 'Target Value'], \n",
    "    aggfunc={'Change %': 'count', 'Target Value': ['sum', 'mean']}, )\n",
    "\n",
    "print(grouped_data)\n"
   ]
  },
  {
   "cell_type": "code",
   "execution_count": 15,
   "metadata": {},
   "outputs": [
    {
     "name": "stdout",
     "output_type": "stream",
     "text": [
      "------Consolidation of variables------\n"
     ]
    },
    {
     "data": {
      "text/html": [
       "<div>\n",
       "<style scoped>\n",
       "    .dataframe tbody tr th:only-of-type {\n",
       "        vertical-align: middle;\n",
       "    }\n",
       "\n",
       "    .dataframe tbody tr th {\n",
       "        vertical-align: top;\n",
       "    }\n",
       "\n",
       "    .dataframe thead th {\n",
       "        text-align: right;\n",
       "    }\n",
       "</style>\n",
       "<table border=\"1\" class=\"dataframe\">\n",
       "  <thead>\n",
       "    <tr style=\"text-align: right;\">\n",
       "      <th></th>\n",
       "      <th>Change %</th>\n",
       "      <th>Change_final_range</th>\n",
       "    </tr>\n",
       "  </thead>\n",
       "  <tbody>\n",
       "    <tr>\n",
       "      <th>0</th>\n",
       "      <td>-0.0009</td>\n",
       "      <td>less69</td>\n",
       "    </tr>\n",
       "    <tr>\n",
       "      <th>1</th>\n",
       "      <td>0.0182</td>\n",
       "      <td>less69</td>\n",
       "    </tr>\n",
       "    <tr>\n",
       "      <th>2</th>\n",
       "      <td>0.0050</td>\n",
       "      <td>less69</td>\n",
       "    </tr>\n",
       "    <tr>\n",
       "      <th>3</th>\n",
       "      <td>0.0359</td>\n",
       "      <td>less69</td>\n",
       "    </tr>\n",
       "    <tr>\n",
       "      <th>4</th>\n",
       "      <td>-0.0396</td>\n",
       "      <td>less69</td>\n",
       "    </tr>\n",
       "    <tr>\n",
       "      <th>...</th>\n",
       "      <td>...</td>\n",
       "      <td>...</td>\n",
       "    </tr>\n",
       "    <tr>\n",
       "      <th>195</th>\n",
       "      <td>-0.0122</td>\n",
       "      <td>less69</td>\n",
       "    </tr>\n",
       "    <tr>\n",
       "      <th>196</th>\n",
       "      <td>-0.0014</td>\n",
       "      <td>less69</td>\n",
       "    </tr>\n",
       "    <tr>\n",
       "      <th>197</th>\n",
       "      <td>0.0009</td>\n",
       "      <td>less69</td>\n",
       "    </tr>\n",
       "    <tr>\n",
       "      <th>198</th>\n",
       "      <td>0.0192</td>\n",
       "      <td>less69</td>\n",
       "    </tr>\n",
       "    <tr>\n",
       "      <th>199</th>\n",
       "      <td>-0.0137</td>\n",
       "      <td>less69</td>\n",
       "    </tr>\n",
       "  </tbody>\n",
       "</table>\n",
       "<p>200 rows × 2 columns</p>\n",
       "</div>"
      ],
      "text/plain": [
       "     Change % Change_final_range\n",
       "0     -0.0009             less69\n",
       "1      0.0182             less69\n",
       "2      0.0050             less69\n",
       "3      0.0359             less69\n",
       "4     -0.0396             less69\n",
       "..        ...                ...\n",
       "195   -0.0122             less69\n",
       "196   -0.0014             less69\n",
       "197    0.0009             less69\n",
       "198    0.0192             less69\n",
       "199   -0.0137             less69\n",
       "\n",
       "[200 rows x 2 columns]"
      ]
     },
     "execution_count": 15,
     "metadata": {},
     "output_type": "execute_result"
    }
   ],
   "source": [
    "print(\"------Consolidation of variables------\")\n",
    "\n",
    "data[\"Change_final_range\"]= np.where(data[\"Change %\"]<=69,\"less69\",np.where(data[\"Change %\"] > 100,\"grater100\",\"69-100\"))\n",
    "df_new2=data.loc[:,[\"Change %\",\"Change_final_range\"]]\n",
    "df_new2.head(200)\n"
   ]
  },
  {
   "cell_type": "code",
   "execution_count": 16,
   "metadata": {},
   "outputs": [
    {
     "name": "stdout",
     "output_type": "stream",
     "text": [
      "  Change_final_range Change % Target Value     \n",
      "                        count         mean  sum\n",
      "0             less69     2648      0.30136  798\n"
     ]
    }
   ],
   "source": [
    "df_Change_final_range = (\n",
    "    data.pivot_table(\n",
    "        index='Change_final_range',\n",
    "        values=['Change %', 'Target Value'],\n",
    "                aggfunc={'Change %': 'count','Target Value': ['sum', 'mean']},).reset_index())\n",
    "# # הצג את הטבלה החדשה\n",
    "print(df_Change_final_range)"
   ]
  },
  {
   "cell_type": "code",
   "execution_count": 17,
   "metadata": {},
   "outputs": [
    {
     "data": {
      "image/png": "[encoded data removed]",
      "text/plain": [
       "<Figure size 640x480 with 1 Axes>"
      ]
     },
     "metadata": {},
     "output_type": "display_data"
    }
   ],
   "source": [
    "SN_P=data['SN&P Adjusted']\n",
    "minSN_P=SN_P.min()\n",
    "maxSN_P=SN_P.max()\n",
    "step = 100\n",
    "xpoints = np.arange(minSN_P, maxSN_P+step,step) #כל הספרות בדילוגים של 1\n",
    "hist, bins = np.histogram(SN_P, bins=xpoints)\n",
    "plt.plot(xpoints[:-1], hist,label=\"SN_P\")\n",
    "plt.title(\"distribution\")\n",
    "plt.xlabel(\"sum\")\n",
    "plt.ylabel(\"cnt\")\n",
    "plt.legend()\n",
    "plt.show()"
   ]
  },
  {
   "cell_type": "code",
   "execution_count": 18,
   "metadata": {},
   "outputs": [
    {
     "name": "stdout",
     "output_type": "stream",
     "text": [
      "                     SN&P Adjusted Target Value     \n",
      "                             count         mean  sum\n",
      "ranges_SN&P_Adjusted                                \n",
      "2191-2690                      519     0.441233  229\n",
      "2691-3190                      681     0.280470  191\n",
      "3191-3690                      270     0.214815   58\n",
      "3691-4190                      521     0.295585  154\n",
      "4191-4690                      512     0.244141  125\n",
      "4691-5190                      131     0.282443   37\n",
      "5191-5690                       14     0.285714    4\n",
      "------Consolidation of variables------\n",
      "  SN&P_Adjusted_final_range SN&P Adjusted Target Value     \n",
      "                                    count         mean  sum\n",
      "0                grater2690          2129     0.267262  569\n",
      "1                  less2690           519     0.441233  229\n"
     ]
    },
    {
     "name": "stderr",
     "output_type": "stream",
     "text": [
      "C:\\Users\\user1\\AppData\\Local\\Temp\\ipykernel_106608\\818789007.py:9: FutureWarning: The default value of observed=False is deprecated and will change to observed=True in a future version of pandas. Specify observed=False to silence this warning and retain the current behavior\n",
      "  grouped_data = df_SNP_Adjusted.pivot_table(\n"
     ]
    }
   ],
   "source": [
    "# SN&P Adjusted\n",
    "min_val = int(data['SN&P Adjusted'].min())\n",
    "max_val = int(data['SN&P Adjusted'].max())\n",
    "ranges = list(range(min_val, max_val + 500, 500))\n",
    "data['ranges_SN&P_Adjusted'] = pd.cut(data['SN&P Adjusted'], bins=ranges, labels=[f\"{r}-{r+499}\" for r in ranges[:-1]])\n",
    "# print(data['ranges_SN&P_Adjusted'])\n",
    "df_SNP_Adjusted = data.copy()\n",
    "\n",
    "grouped_data = df_SNP_Adjusted.pivot_table(\n",
    "    index='ranges_SN&P_Adjusted',\n",
    "    values=['SN&P Adjusted', 'Target Value'],\n",
    "    aggfunc={'SN&P Adjusted': 'count', 'Target Value': ['sum', 'mean']},\n",
    ")\n",
    "\n",
    "print(grouped_data)\n",
    "\n",
    "print(\"------Consolidation of variables------\")\n",
    "\n",
    "\n",
    "df[\"SN&P_Adjusted_final_range\"]= np.where(df[\"SN&P Adjusted\"]<=2690,\"less2690\",\"grater2690\")\n",
    "df_new3=df.loc[:,[\"SN&P Adjusted\",\"SN&P_Adjusted_final_range\"]]\n",
    "# print(df_new3.head(200))\n",
    "\n",
    "\n",
    "df_SNP_Adjusted_final_range = (\n",
    "    df.pivot_table(\n",
    "        index='SN&P_Adjusted_final_range',\n",
    "        values=['SN&P Adjusted', 'Target Value'],\n",
    "                aggfunc={'SN&P Adjusted': 'count','Target Value': ['sum', 'mean']},).reset_index())\n",
    "# הצג את הטבלה החדשה\n",
    "print(df_SNP_Adjusted_final_range)\n"
   ]
  },
  {
   "cell_type": "code",
   "execution_count": 19,
   "metadata": {},
   "outputs": [
    {
     "data": {
      "image/png": "[encoded data removed]",
      "text/plain": [
       "<Figure size 640x480 with 1 Axes>"
      ]
     },
     "metadata": {},
     "output_type": "display_data"
    }
   ],
   "source": [
    "DXY=data['DXY Adjusted']\n",
    "minDXY=DXY.min()\n",
    "maxDXY=DXY.max()\n",
    "step = 1\n",
    "xpoints = np.arange(minDXY, maxDXY+step,step) #כל הספרות בדילוגים של 1\n",
    "hist, bins = np.histogram(DXY, bins=xpoints)\n",
    "plt.plot(xpoints[:-1], hist,label=\"DXY\")\n",
    "plt.title(\"distribution\")\n",
    "plt.xlabel(\"sum\")\n",
    "plt.ylabel(\"cnt\")\n",
    "plt.legend()\n",
    "plt.show()"
   ]
  },
  {
   "cell_type": "code",
   "execution_count": 20,
   "metadata": {},
   "outputs": [
    {
     "name": "stdout",
     "output_type": "stream",
     "text": [
      "                    DXY Adjusted Target Value     \n",
      "                           count         mean  sum\n",
      "ranges_DXY_Adjusted                               \n",
      "88-89                       1675     0.346269  580\n",
      "98-99                        888     0.228604  203\n",
      "108-109                       85     0.176471   15\n"
     ]
    },
    {
     "name": "stderr",
     "output_type": "stream",
     "text": [
      "C:\\Users\\user1\\AppData\\Local\\Temp\\ipykernel_106608\\2713385260.py:9: FutureWarning: The default value of observed=False is deprecated and will change to observed=True in a future version of pandas. Specify observed=False to silence this warning and retain the current behavior\n",
      "  grouped_data = df_DXY_Adjusted.pivot_table(\n"
     ]
    }
   ],
   "source": [
    "# DXY\n",
    "min_val = int(data['DXY Adjusted'].min())\n",
    "max_val = int(data['DXY Adjusted'].max())\n",
    "ranges = list(range(min_val, max_val + 10, 10)) \n",
    "data['ranges_DXY_Adjusted'] = pd.cut(data['DXY Adjusted'], bins=ranges, labels=[f\"{r}-{r+1}\" for r in ranges[:-1]])\n",
    "# print(data['ranges_DXY_Adjusted']) \n",
    "df_DXY_Adjusted = copy.deepcopy(data)\n",
    "\n",
    "grouped_data = df_DXY_Adjusted.pivot_table( \n",
    "    index='ranges_DXY_Adjusted',\n",
    "    values=['DXY Adjusted', 'Target Value'], \n",
    "    \n",
    "    aggfunc={'DXY Adjusted': 'count', 'Target Value': ['sum', 'mean']}, )\n",
    "\n",
    "# הצגת \n",
    "print(grouped_data)"
   ]
  },
  {
   "cell_type": "code",
   "execution_count": 21,
   "metadata": {},
   "outputs": [
    {
     "data": {
      "image/png": "[encoded data removed]",
      "text/plain": [
       "<Figure size 640x480 with 1 Axes>"
      ]
     },
     "metadata": {},
     "output_type": "display_data"
    }
   ],
   "source": [
    "GOLD=data['GOLD Adjusted']\n",
    "minGOLD=GOLD.min()\n",
    "maxGOLD=GOLD.max()\n",
    "step = 10\n",
    "xpoints = np.arange(minGOLD, maxGOLD+step,step) #כל הספרות בדילוגים של 1\n",
    "hist, bins = np.histogram(GOLD, bins=xpoints)\n",
    "plt.plot(xpoints[:-1], hist,label=\"GOLD\")\n",
    "plt.title(\"distribution\")\n",
    "plt.xlabel(\"sum\")\n",
    "plt.ylabel(\"cnt\")\n",
    "plt.legend()\n",
    "plt.show()"
   ]
  },
  {
   "cell_type": "code",
   "execution_count": 22,
   "metadata": {},
   "outputs": [
    {
     "name": "stdout",
     "output_type": "stream",
     "text": [
      "1174\n",
      "2390\n",
      "                     GOLD Adjusted Target Value     \n",
      "                             count         mean  sum\n",
      "ranges_GOLD_Adjusted                                \n",
      "1174-1273                      401     0.349127  140\n",
      "1274-1373                      479     0.382046  183\n",
      "1374-1473                       81     0.407407   33\n",
      "1474-1573                      162     0.265432   43\n",
      "1574-1673                       86     0.220930   19\n",
      "1674-1773                      288     0.298611   86\n",
      "1774-1873                      503     0.290258  146\n",
      "1874-1973                      388     0.224227   87\n",
      "1974-2073                      207     0.198068   41\n",
      "2074-2173                       19     0.421053    8\n",
      "2174-2273                       14     0.214286    3\n",
      "2274-2373                       14     0.500000    7\n",
      "2374-2473                        6     0.333333    2\n"
     ]
    },
    {
     "name": "stderr",
     "output_type": "stream",
     "text": [
      "C:\\Users\\user1\\AppData\\Local\\Temp\\ipykernel_106608\\684452676.py:13: FutureWarning: The default value of observed=False is deprecated and will change to observed=True in a future version of pandas. Specify observed=False to silence this warning and retain the current behavior\n",
      "  grouped_data = dfGold.pivot_table(\n"
     ]
    }
   ],
   "source": [
    "# עמודת זהב, GOLD\n",
    "min_val = int(data['GOLD Adjusted'].min())\n",
    "max_val = int(data['GOLD Adjusted'].max())\n",
    "print(min_val)\n",
    "print(max_val)\n",
    "ranges = list(range(min_val, max_val + 100, 100))\n",
    "data['ranges_GOLD_Adjusted'] = pd.cut(data['GOLD Adjusted'], bins=ranges, labels=[f\"{r}-{r+99}\" for r in ranges[:-1]])\n",
    "# print(data.ranges_GOLD_Adjusted)\n",
    "import copy\n",
    "dfGold = copy.deepcopy(data)\n",
    "\n",
    "# dfGold['GOLD Adjusted'] = dfGold['GOLD Adjusted'].astype(int)\n",
    "grouped_data = dfGold.pivot_table( \n",
    "    index='ranges_GOLD_Adjusted',\n",
    "    values=['GOLD Adjusted', 'Target Value'],    \n",
    "    aggfunc={'GOLD Adjusted': 'count', 'Target Value': ['sum', 'mean']}, )\n",
    "\n",
    "print(grouped_data)"
   ]
  },
  {
   "cell_type": "code",
   "execution_count": 23,
   "metadata": {},
   "outputs": [
    {
     "name": "stdout",
     "output_type": "stream",
     "text": [
      "  GOLD_Adjusted_final_rangee GOLD Adjusted Target Value     \n",
      "                                     count         mean  sum\n",
      "0                  1437-2973          1674     0.258662  433\n",
      "1                greater2937            53     0.377358   20\n",
      "2                   less1437           921     0.374593  345\n"
     ]
    }
   ],
   "source": [
    "data[\"GOLD_Adjusted_final_rangee\"] = np.where(data[\"GOLD Adjusted\"]<=1437,\"less1437\",np.where(data[\"GOLD Adjusted\"]<=2073,\"1437-2973\",\"greater2937\"))\n",
    "df_new3 = data.loc[:, [\"GOLD Adjusted\", \"GOLD_Adjusted_final_rangee\"]]\n",
    "# print(df_new3)\n",
    "\n",
    "\n",
    "df_GOLD_Adjusted_final_range = data.pivot_table(\n",
    "    index='GOLD_Adjusted_final_rangee',\n",
    "    values=['GOLD Adjusted', 'Target Value'],\n",
    "    aggfunc={'GOLD Adjusted': 'count', 'Target Value': ['sum', 'mean']}\n",
    ").reset_index()\n",
    "\n",
    "print(df_GOLD_Adjusted_final_range)"
   ]
  },
  {
   "cell_type": "code",
   "execution_count": 24,
   "metadata": {},
   "outputs": [
    {
     "data": {
      "image/png": "[encoded data removed]",
      "text/plain": [
       "<Figure size 640x480 with 1 Axes>"
      ]
     },
     "metadata": {},
     "output_type": "display_data"
    }
   ],
   "source": [
    "ETH=data['ETH Price']\n",
    "minETH=ETH.min()\n",
    "maxETH=ETH.max()\n",
    "step = 100\n",
    "xpoints = np.arange(minETH, maxETH+step,step) #כל הספרות בדילוגים של 1\n",
    "hist, bins = np.histogram(ETH, bins=xpoints)\n",
    "plt.plot(xpoints[:-1], hist,label=\"ETH Price\")\n",
    "plt.title(\"distribution\")\n",
    "plt.xlabel(\"sum\")\n",
    "plt.ylabel(\"cnt\")\n",
    "plt.legend()\n",
    "plt.show()"
   ]
  },
  {
   "cell_type": "code",
   "execution_count": 25,
   "metadata": {},
   "outputs": [
    {
     "name": "stdout",
     "output_type": "stream",
     "text": [
      "0       3010-3509\n",
      "1       3010-3509\n",
      "2       3010-3509\n",
      "3       3010-3509\n",
      "4       2510-3009\n",
      "          ...    \n",
      "2643       10-509\n",
      "2644       10-509\n",
      "2645       10-509\n",
      "2646       10-509\n",
      "2647       10-509\n",
      "Name: ranges_ETH_Price, Length: 2648, dtype: category\n",
      "Categories (10, object): ['10-509' < '510-1009' < '1010-1509' < '1510-2009' ... '3010-3509' < '3510-4009' < '4010-4509' < '4510-5009']\n",
      "                 ETH Price Target Value     \n",
      "                     count         mean  sum\n",
      "ranges_ETH_Price                            \n",
      "10-509                1233     0.304136  375\n",
      "510-1009               189     0.486772   92\n",
      "1010-1509              209     0.282297   59\n",
      "1510-2009              458     0.211790   97\n",
      "2010-2509              166     0.295181   49\n",
      "2510-3009              128     0.351562   45\n",
      "3010-3509              132     0.272727   36\n",
      "3510-4009               73     0.369863   27\n",
      "4010-4509               43     0.348837   15\n",
      "4510-5009               17     0.176471    3\n"
     ]
    },
    {
     "name": "stderr",
     "output_type": "stream",
     "text": [
      "C:\\Users\\user1\\AppData\\Local\\Temp\\ipykernel_106608\\2084327974.py:9: FutureWarning: The default value of observed=False is deprecated and will change to observed=True in a future version of pandas. Specify observed=False to silence this warning and retain the current behavior\n",
      "  grouped_data = df_ETH_Price.pivot_table(\n"
     ]
    }
   ],
   "source": [
    "# ETH Price\n",
    "min_val = int(data['ETH Price'].min())\n",
    "max_val = int(data['ETH Price'].max())\n",
    "ranges = list(range(min_val, max_val + 500, 500)) \n",
    "data['ranges_ETH_Price'] = pd.cut(data['ETH Price'], bins=ranges, labels=[f\"{r}-{r+499}\" for r in ranges[:-1]])\n",
    "print(data['ranges_ETH_Price'])\n",
    "df_ETH_Price = copy.deepcopy(data)\n",
    "\n",
    "grouped_data = df_ETH_Price.pivot_table( \n",
    "    index='ranges_ETH_Price',\n",
    "    values=['ETH Price', 'Target Value'], \n",
    "    \n",
    "    aggfunc={'ETH Price': 'count', 'Target Value': ['sum', 'mean']}, )\n",
    "\n",
    "print(grouped_data)"
   ]
  },
  {
   "cell_type": "code",
   "execution_count": 26,
   "metadata": {},
   "outputs": [
    {
     "name": "stdout",
     "output_type": "stream",
     "text": [
      "  ETH_Price_final_range ETH Price Target Value     \n",
      "                            count         mean  sum\n",
      "0             1009-4509      1209     0.271299  328\n",
      "1            grater1474        17     0.176471    3\n",
      "2              less1009      1422     0.328411  467\n"
     ]
    }
   ],
   "source": [
    "df_ETH_Price_no_nan= data.loc[:, ['ETH Price', 'Target Value']].dropna()\n",
    "df_ETH_Price_no_nan.isnull().sum()\n",
    "df_ETH_Price_no_nan.head(10)\n",
    "\n",
    "df[\"ETH_Price_final_range\"]= np.where(df[\"ETH Price\"]<=1009,\"less1009\",np.where(df[\"ETH Price\"]>4510,\"grater1474\",\"1009-4509\"))\n",
    "\n",
    "df_new3=df.loc[:,[\"ETH Price\",\"ETH_Price_final_range\"]]\n",
    "\n",
    "df_ETH_Price_final_range = (\n",
    "    df.pivot_table(\n",
    "        index='ETH_Price_final_range',\n",
    "        values=['ETH Price', 'Target Value'],\n",
    "                aggfunc={'ETH Price': 'count','Target Value': ['sum', 'mean']},).reset_index())\n",
    "# הצג את הטבלה החדשה\n",
    "print(df_ETH_Price_final_range)"
   ]
  },
  {
   "cell_type": "code",
   "execution_count": 27,
   "metadata": {},
   "outputs": [
    {
     "name": "stdout",
     "output_type": "stream",
     "text": [
      "0       276.66\n",
      "1       256.05\n",
      "2       645.65\n",
      "3       423.99\n",
      "4       524.88\n",
      "         ...  \n",
      "2643     26.19\n",
      "2644    105.21\n",
      "2645     54.39\n",
      "2646    140.66\n",
      "2647    125.31\n",
      "Name: ETH Vol., Length: 2648, dtype: float64\n"
     ]
    }
   ],
   "source": [
    "data['ETH Vol.'] = data['ETH Vol.'].str.replace('[a-zA-Z]', '', regex=True)\n",
    "data['ETH Vol.'] = pd.to_numeric(data['ETH Vol.'])\n",
    "print(data['ETH Vol.'])"
   ]
  },
  {
   "cell_type": "code",
   "execution_count": 28,
   "metadata": {},
   "outputs": [
    {
     "data": {
      "image/png": "[encoded data removed]",
      "text/plain": [
       "<Figure size 640x480 with 1 Axes>"
      ]
     },
     "metadata": {},
     "output_type": "display_data"
    }
   ],
   "source": [
    "ETH_V=data['ETH Vol.']\n",
    "minETH_V=ETH_V.min()\n",
    "maxETH_V=ETH_V.max()\n",
    "step = 10\n",
    "xpoints = np.arange(minETH_V, maxETH_V + step,step) #כל הספרות בדילוגים של 1\n",
    "hist, bins = np.histogram(ETH_V, bins=xpoints)\n",
    "plt.plot(xpoints[:-1], hist,label=\"ETH_V\")\n",
    "plt.title(\"distribution\")\n",
    "plt.xlabel(\"sum\")\n",
    "plt.ylabel(\"cnt\")\n",
    "plt.legend()\n",
    "plt.show()"
   ]
  },
  {
   "cell_type": "code",
   "execution_count": 29,
   "metadata": {},
   "outputs": [
    {
     "name": "stdout",
     "output_type": "stream",
     "text": [
      "0       276.66\n",
      "1       256.05\n",
      "2       645.65\n",
      "3       423.99\n",
      "4       524.88\n",
      "         ...  \n",
      "2643     26.19\n",
      "2644    105.21\n",
      "2645     54.39\n",
      "2646    140.66\n",
      "2647    125.31\n",
      "Name: ETH Vol., Length: 2648, dtype: float64\n"
     ]
    }
   ],
   "source": [
    "data['ETH Vol.'] = pd.to_numeric(data['ETH Vol.'])\n",
    "print(data['ETH Vol.'])\n"
   ]
  },
  {
   "cell_type": "code",
   "execution_count": 30,
   "metadata": {},
   "outputs": [],
   "source": [
    "min_val = int(data['ETH Vol.'].min())\n",
    "max_val = int(data['ETH Vol.'].max())\n",
    "ranges = list(range(min_val, max_val + 100, 100)) \n",
    "data['ranges_ETH_Vol'] = pd.cut(data['ETH Vol.'], bins=ranges, labels=[f\"{r}-{r+99}\" for r in ranges[:-1]])\n",
    "import copy\n",
    "df_ETH_Vol= copy.deepcopy(data)\n",
    "\n"
   ]
  },
  {
   "cell_type": "code",
   "execution_count": 31,
   "metadata": {},
   "outputs": [
    {
     "name": "stdout",
     "output_type": "stream",
     "text": [
      "               ETH Vol. Target Value     \n",
      "                  count         mean  sum\n",
      "ranges_ETH_Vol                           \n",
      "1-100              1410     0.337589  476\n",
      "101-200              98     0.122449   12\n",
      "201-300             152     0.105263   16\n",
      "301-400             166     0.108434   18\n",
      "401-500             198     0.227273   45\n",
      "501-600             180     0.388889   70\n",
      "601-700             154     0.331169   51\n",
      "701-800             105     0.333333   35\n",
      "801-900              99     0.393939   39\n",
      "901-1000             83     0.421687   35\n"
     ]
    },
    {
     "name": "stderr",
     "output_type": "stream",
     "text": [
      "C:\\Users\\user1\\AppData\\Local\\Temp\\ipykernel_106608\\106644665.py:1: FutureWarning: The default value of observed=False is deprecated and will change to observed=True in a future version of pandas. Specify observed=False to silence this warning and retain the current behavior\n",
      "  grouped_data = df_ETH_Vol.pivot_table(\n"
     ]
    }
   ],
   "source": [
    "\n",
    "\n",
    "grouped_data = df_ETH_Vol.pivot_table( \n",
    "    index='ranges_ETH_Vol',\n",
    "    values=['ETH Vol.', 'Target Value'],     \n",
    "    aggfunc={'ETH Vol.': 'count', 'Target Value': ['sum', 'mean']}, \n",
    ")\n",
    "\n",
    "print(grouped_data)"
   ]
  },
  {
   "cell_type": "code",
   "execution_count": 32,
   "metadata": {},
   "outputs": [
    {
     "name": "stdout",
     "output_type": "stream",
     "text": [
      "------Consolidation of variables------\n",
      "  ETH_Vol_final_range ETH Vol. Target Value     \n",
      "                         count         mean  sum\n",
      "0             100-500      614     0.148208   91\n",
      "1           grater500      622     0.369775  230\n",
      "2             less100     1412     0.337819  477\n"
     ]
    }
   ],
   "source": [
    "\n",
    "print(\"------Consolidation of variables------\")\n",
    "\n",
    "data[\"ETH_Vol_final_range\"]= np.where(data[\"ETH Vol.\"]<=100,\"less100\",np.where(data[\"ETH Vol.\"] > 500,\"grater500\",\"100-500\"))\n",
    "df_new=data.loc[:,[\"ETH Vol.\",\"ETH_Vol_final_range\"]]\n",
    "\n",
    "df_ETH_Vol_final_range = (\n",
    "    data.pivot_table(\n",
    "        index='ETH_Vol_final_range',\n",
    "        values=['ETH Vol.', 'Target Value'],\n",
    "                aggfunc={'ETH Vol.': 'count','Target Value': ['sum', 'mean']},).reset_index())\n",
    "# הצג את הטבלה החדשה\n",
    "print(df_ETH_Vol_final_range)"
   ]
  },
  {
   "cell_type": "code",
   "execution_count": 33,
   "metadata": {},
   "outputs": [
    {
     "data": {
      "image/png": "[encoded data removed]",
      "text/plain": [
       "<Figure size 640x480 with 1 Axes>"
      ]
     },
     "metadata": {},
     "output_type": "display_data"
    }
   ],
   "source": [
    "OIL=data['OIL Price Adjusted']\n",
    "minOIL=OIL.min()\n",
    "maxOIL=OIL.max()\n",
    "step = 1\n",
    "xpoints = np.arange(minOIL, maxOIL+step,step) #כל הספרות בדילוגים של 1\n",
    "hist, bins = np.histogram(OIL, bins=xpoints)\n",
    "plt.plot(xpoints[:-1], hist,label=\"OIL\")\n",
    "plt.title(\"distribution\")\n",
    "plt.xlabel(\"sum\")\n",
    "plt.ylabel(\"cnt\")\n",
    "plt.legend()\n",
    "plt.show()"
   ]
  },
  {
   "cell_type": "code",
   "execution_count": 34,
   "metadata": {},
   "outputs": [
    {
     "name": "stdout",
     "output_type": "stream",
     "text": [
      "                          OIL Price Adjusted Target Value     \n",
      "                                       count         mean  sum\n",
      "ranges_OIL Price Adjusted                                     \n",
      "10-19                                     19     0.315789    6\n",
      "20-29                                     44     0.409091   18\n",
      "30-39                                     92     0.217391   20\n",
      "40-49                                    358     0.382682  137\n",
      "50-59                                    588     0.314626  185\n",
      "60-69                                    512     0.376953  193\n",
      "70-79                                    519     0.229287  119\n",
      "80-89                                    293     0.197952   58\n",
      "90-99                                    102     0.235294   24\n",
      "100-109                                   72     0.305556   22\n",
      "110-119                                   42     0.309524   13\n",
      "120-129                                    7     0.428571    3\n",
      "------Consolidation of variables------\n",
      "  OIL_final_range OIL Price Adjusted Target Value     \n",
      "                               count         mean  sum\n",
      "0          69-100                971     0.217302  211\n",
      "1       grater100                121     0.314050   38\n",
      "2          less69               1556     0.352828  549\n"
     ]
    },
    {
     "name": "stderr",
     "output_type": "stream",
     "text": [
      "C:\\Users\\user1\\AppData\\Local\\Temp\\ipykernel_106608\\3796156222.py:9: FutureWarning: The default value of observed=False is deprecated and will change to observed=True in a future version of pandas. Specify observed=False to silence this warning and retain the current behavior\n",
      "  grouped_data = df_ETH_Price.pivot_table(\n"
     ]
    }
   ],
   "source": [
    "# OIL Price Adjusted\n",
    "min_val = int(data['OIL Price Adjusted'].min())\n",
    "max_val = int(data['OIL Price Adjusted'].max())\n",
    "ranges = list(range(min_val, max_val + 10, 10)) \n",
    "data['ranges_OIL Price Adjusted'] = pd.cut(data['OIL Price Adjusted'], bins=ranges, labels=[f\"{r}-{r+9}\" for r in ranges[:-1]])\n",
    "# print(data['ranges_OIL Price Adjusted'])\n",
    "df_ETH_Price = copy.deepcopy(data)\n",
    "\n",
    "grouped_data = df_ETH_Price.pivot_table( \n",
    "    index='ranges_OIL Price Adjusted',\n",
    "    values=['OIL Price Adjusted', 'Target Value'], \n",
    "    \n",
    "    aggfunc={'OIL Price Adjusted': 'count', 'Target Value': ['sum', 'mean']}, )\n",
    "\n",
    "print(grouped_data)\n",
    "\n",
    "\n",
    "print(\"------Consolidation of variables------\")\n",
    "\n",
    "\n",
    "df[\"OIL_final_range\"]= np.where(df[\"OIL Price Adjusted\"]<=69,\"less69\",np.where(df[\"OIL Price Adjusted\"] > 100,\"grater100\",\"69-100\"))\n",
    "df_new2=df.loc[:,[\"OIL Price Adjusted\",\"OIL_final_range\"]]\n",
    "df_new2.head(200)\n",
    "\n",
    "df_OIL_final_range = (\n",
    "    df.pivot_table(\n",
    "        index='OIL_final_range',\n",
    "        values=['OIL Price Adjusted', 'Target Value'],\n",
    "                aggfunc={'OIL Price Adjusted': 'count','Target Value': ['sum', 'mean']},).reset_index())\n",
    "# הצג את הטבלה החדשה\n",
    "print(df_OIL_final_range)"
   ]
  },
  {
   "cell_type": "code",
   "execution_count": 35,
   "metadata": {},
   "outputs": [
    {
     "data": {
      "image/png": "[encoded data removed]",
      "text/plain": [
       "<Figure size 640x480 with 1 Axes>"
      ]
     },
     "metadata": {},
     "output_type": "display_data"
    }
   ],
   "source": [
    "Days_from_the_last_halving=data['Days from the last halving']\n",
    "minDAYS=Days_from_the_last_halving.min()\n",
    "maxDAYS=Days_from_the_last_halving.max()\n",
    "step = 100\n",
    "xpoints = np.arange(minDAYS, maxDAYS+step,step) #כל הספרות בדילוגים של 1\n",
    "hist, bins = np.histogram(Days_from_the_last_halving, bins=xpoints)\n",
    "plt.plot(xpoints[:-1], hist,label=\"Days_from_the_last_halving\")\n",
    "plt.title(\"distribution\")\n",
    "plt.xlabel(\"sum\")\n",
    "plt.ylabel(\"cnt\")\n",
    "plt.legend()\n",
    "plt.show()"
   ]
  },
  {
   "cell_type": "code",
   "execution_count": 36,
   "metadata": {},
   "outputs": [
    {
     "name": "stdout",
     "output_type": "stream",
     "text": [
      "                                  Days from the last halving Target Value     \n",
      "                                                       count         mean  sum\n",
      "ranges_Days from the last halving                                             \n",
      "1-200                                                    207     0.198068   41\n",
      "201-400                                                  400     0.430000  172\n",
      "401-600                                                  400     0.437500  175\n",
      "601-800                                                  400     0.325000  130\n",
      "801-1000                                                 400     0.180000   72\n",
      "1001-1200                                                400     0.242500   97\n",
      "1201-1400                                                400     0.237500   95\n",
      "1401-1600                                                 39     0.410256   16\n"
     ]
    },
    {
     "name": "stderr",
     "output_type": "stream",
     "text": [
      "C:\\Users\\user1\\AppData\\Local\\Temp\\ipykernel_106608\\2457382036.py:8: FutureWarning: The default value of observed=False is deprecated and will change to observed=True in a future version of pandas. Specify observed=False to silence this warning and retain the current behavior\n",
      "  grouped_data = df_Days_from_the_last_halving.pivot_table(\n"
     ]
    }
   ],
   "source": [
    "min_val = int(data['Days from the last halving'].min())\n",
    "max_val = int(data['Days from the last halving'].max())\n",
    "ranges = list(range(min_val, max_val + 200, 200)) \n",
    "data['ranges_Days from the last halving'] = pd.cut(data['Days from the last halving'], bins=ranges, labels=[f\"{r}-{r+199}\" for r in ranges[:-1]])\n",
    "# print(data['ranges_OIL Price Adjusted'])\n",
    "df_Days_from_the_last_halving = copy.deepcopy(data)\n",
    "\n",
    "grouped_data = df_Days_from_the_last_halving.pivot_table( \n",
    "    index='ranges_Days from the last halving',\n",
    "    values=['Days from the last halving', 'Target Value'], \n",
    "    \n",
    "    aggfunc={'Days from the last halving': 'count', 'Target Value': ['sum', 'mean']}, )\n",
    "\n",
    "print(grouped_data)"
   ]
  },
  {
   "cell_type": "code",
   "execution_count": 37,
   "metadata": {},
   "outputs": [
    {
     "name": "stdout",
     "output_type": "stream",
     "text": [
      "------Consolidation of variables------\n",
      "  Days__final_range Days from the last halving Target Value     \n",
      "                                         count         mean  sum\n",
      "0           200-800                       1198     0.398164  477\n",
      "1          800-1400                       1202     0.219634  264\n",
      "2       greater1400                         41     0.414634   17\n",
      "3           less200                        207     0.193237   40\n"
     ]
    }
   ],
   "source": [
    "print(\"------Consolidation of variables------\")\n",
    "\n",
    "\n",
    "data[\"Days__final_range\"]= np.where(data[\"Days from the last halving\"]<=200,\"less200\",np.where(data[\"Days from the last halving\"] < 800,\"200-800\",np.where(data[\"Days from the last halving\"]<=1400,\"800-1400\",\"greater1400\")))\n",
    "df_new2=data.loc[:,[\"Days from the last halving\",\"Days__final_range\"]]\n",
    "df_new2.head(200)\n",
    "\n",
    "df_Days__final_range = (\n",
    "    data.pivot_table(\n",
    "        index='Days__final_range',\n",
    "        values=['Days from the last halving', 'Target Value'],\n",
    "                aggfunc={'Days from the last halving': 'count','Target Value': ['sum', 'mean']},).reset_index())\n",
    "# הצג את הטבלה החדשה\n",
    "print(df_Days__final_range)"
   ]
  },
  {
   "cell_type": "code",
   "execution_count": 38,
   "metadata": {},
   "outputs": [
    {
     "data": {
      "image/png": "[encoded data removed]",
      "text/plain": [
       "<Figure size 640x480 with 1 Axes>"
      ]
     },
     "metadata": {},
     "output_type": "display_data"
    }
   ],
   "source": [
    "BTC=data['BTC_Hashprice']\n",
    "minBTC=BTC.min()\n",
    "maxBTC=BTC.max()\n",
    "step = 0.000001\n",
    "xpoints = np.arange(minBTC, maxBTC+step,step) #כל הספרות בדילוגים של 1\n",
    "hist, bins = np.histogram(BTC, bins=xpoints)\n",
    "plt.plot(xpoints[:-1], hist,label=\"BTC\")\n",
    "plt.title(\"distribution\")\n",
    "plt.xlabel(\"sum\")\n",
    "plt.ylabel(\"cnt\")\n",
    "plt.legend()\n",
    "plt.show()"
   ]
  },
  {
   "cell_type": "code",
   "execution_count": 39,
   "metadata": {},
   "outputs": [
    {
     "name": "stdout",
     "output_type": "stream",
     "text": [
      "1.53e-06\n",
      "4.229e-05\n",
      "                         BTC_Hashprice Target Value\n",
      "                                 count          sum\n",
      "ranges_BTC_Hashprice                               \n",
      "1-1.0000000000287557e-06             0            0\n",
      "201-200.000001                       0            0\n",
      "401-400.000001                       0            0\n",
      "601-600.000001                       0            0\n",
      "801-800.000001                       0            0\n",
      "1001-1000.000001                     0            0\n",
      "1201-1200.000001                     0            0\n",
      "1401-1400.000001                     0            0\n"
     ]
    },
    {
     "name": "stderr",
     "output_type": "stream",
     "text": [
      "C:\\Users\\user1\\AppData\\Local\\Temp\\ipykernel_106608\\640170321.py:19: FutureWarning: The default value of observed=False is deprecated and will change to observed=True in a future version of pandas. Specify observed=False to silence this warning and retain the current behavior\n",
      "  grouped_data = df_BTC_Hashprice.pivot_table(\n"
     ]
    }
   ],
   "source": [
    "# float/int\n",
    "min_val_hash = float(data['BTC_Hashprice'].min())\n",
    "max_val_hash = float(data['BTC_Hashprice'].max())\n",
    "print(min_val_hash)\n",
    "print(max_val_hash)\n",
    "hash=np.arange(min_val_hash, max_val_hash + 0.000001, 0.000001) \n",
    "data['ranges_BTC_Hashprice'] = pd.cut(data['BTC_Hashprice'], bins=ranges, labels=[f\"{r}-{r+(-0.999999)}\" for r in ranges[:-1]])\n",
    "# print(data['ranges_BTC_Hashprice'])\n",
    "\n",
    "# min_val_hash = np.min(data['BTC_Hashprice'])\n",
    "# max_val_hash = np.max(data['BTC_Hashprice'])\n",
    "# hash = np.arange(min_val_hash, max_val_hash + 0.000009, 0.000009)\n",
    "# labels = [f\"{r}-{r+0.000009}\" for r in hash[:-1]]\n",
    "# data['ranges_BTC_Hashprice'] = pd.cut(data['BTC_Hashprice'], bins=hash, labels=labels)\n",
    "# # print(data['ranges_BTC_Hashprice'])\n",
    "df_BTC_Hashprice = copy.deepcopy(data)\n",
    "\n",
    "# חישוב סטטיסטיקות עבור כל טווח\n",
    "grouped_data = df_BTC_Hashprice.pivot_table( \n",
    "    index='ranges_BTC_Hashprice',\n",
    "    values=['BTC_Hashprice', 'Target Value'], \n",
    "    \n",
    "    aggfunc={'BTC_Hashprice': 'count', 'Target Value': ['sum', 'mean']}, )\n",
    "\n",
    "# הצגת הטבלה\n",
    "print(grouped_data)"
   ]
  },
  {
   "cell_type": "code",
   "execution_count": 40,
   "metadata": {},
   "outputs": [
    {
     "name": "stdout",
     "output_type": "stream",
     "text": [
      "  BTC_Hashprice_final_range BTC_Hashprice Target Value     \n",
      "                                    count         mean  sum\n",
      "0                    less63          1828     0.271335  496\n"
     ]
    }
   ],
   "source": [
    "df_hashprice_no_nan= df.loc[:, ['BTC_Hashprice', 'Target Value']].dropna()\n",
    "\n",
    "df_hashprice_no_nan[\"BTC_Hashprice_final_range\"]= np.where(df_hashprice_no_nan[\"BTC_Hashprice\"]<=63,\"less63\",np.where(df_hashprice_no_nan[\"BTC_Hashprice\"] > 103,\"grater103\",\"63-103\"))\n",
    "df_new=df_hashprice_no_nan.loc[:,[\"BTC_Hashprice\",\"BTC_Hashprice_final_range\"]]\n",
    "df_new.head(100)\n",
    "\n",
    "# יצירת טבלת ציר עם df_Crypto_no_nan\n",
    "BTC_Hashprice_final_range = (\n",
    "    df_hashprice_no_nan.pivot_table(\n",
    "        index='BTC_Hashprice_final_range',\n",
    "        values=['BTC_Hashprice', 'Target Value'],\n",
    "        aggfunc={'BTC_Hashprice': 'count','Target Value': ['sum', 'mean']},\n",
    "    ).reset_index()\n",
    ")\n",
    "\n",
    "# הצגת הטבלה החדשה\n",
    "print(BTC_Hashprice_final_range)"
   ]
  },
  {
   "cell_type": "code",
   "execution_count": 41,
   "metadata": {},
   "outputs": [
    {
     "data": {
      "image/png": "[encoded data removed]",
      "text/plain": [
       "<Figure size 640x480 with 1 Axes>"
      ]
     },
     "metadata": {},
     "output_type": "display_data"
    }
   ],
   "source": [
    "Crypto_Volatility_Index=data['Crypto Volatility Index']\n",
    "minCrypto_Volatility_Index=Crypto_Volatility_Index.min()\n",
    "maxCrypto_Volatility_Index=Crypto_Volatility_Index.max()\n",
    "step = 1\n",
    "xpoints = np.arange(minCrypto_Volatility_Index, maxCrypto_Volatility_Index+step,step) \n",
    "hist, bins = np.histogram(Crypto_Volatility_Index, bins=xpoints)\n",
    "plt.plot(xpoints[:-1], hist,label=\"Crypto_Volatility_Index\")\n",
    "plt.title(\"distribution\")\n",
    "plt.xlabel(\"sum\")\n",
    "plt.ylabel(\"cnt\")\n",
    "plt.legend()\n",
    "plt.show()"
   ]
  },
  {
   "cell_type": "code",
   "execution_count": 42,
   "metadata": {},
   "outputs": [
    {
     "name": "stdout",
     "output_type": "stream",
     "text": [
      "   ranges_Crypto_Volatility_Index Crypto Volatility Index Target Value    \n",
      "                                                    count         mean sum\n",
      "0                           34-43                      85     0.082353   7\n",
      "1                           44-53                     113     0.115044  13\n",
      "2                           54-63                     307     0.162866  50\n",
      "3                           64-73                     343     0.212828  73\n",
      "4                           74-83                     307     0.270358  83\n",
      "5                           84-93                     307     0.315961  97\n",
      "6                          94-103                     198     0.378788  75\n",
      "7                         104-113                      85     0.505882  43\n",
      "8                         114-123                      41     0.512195  21\n",
      "9                         124-133                      24     0.541667  13\n",
      "10                        134-143                      18     0.555556  10\n",
      "11                        144-153                      11     0.636364   7\n",
      "12                        154-163                       4     0.500000   2\n",
      "13                        164-173                       2     1.000000   2\n"
     ]
    },
    {
     "name": "stderr",
     "output_type": "stream",
     "text": [
      "C:\\Users\\user1\\AppData\\Local\\Temp\\ipykernel_106608\\311831447.py:14: FutureWarning: The default value of observed=False is deprecated and will change to observed=True in a future version of pandas. Specify observed=False to silence this warning and retain the current behavior\n",
      "  df_Crypto.pivot_table(\n"
     ]
    }
   ],
   "source": [
    "# Crypto\n",
    "\n",
    "min_val = int(data['Crypto Volatility Index'].min())\n",
    "max_val = int(data['Crypto Volatility Index'].max())\n",
    "ranges = list(range(min_val, max_val + 10,10))\n",
    "data['ranges_Crypto_Volatility_Index'] = pd.cut(\n",
    "    data['Crypto Volatility Index'], bins=ranges, labels=[f\"{r}-{r+9}\" for r in ranges[:-1]]\n",
    ")\n",
    "# print(data.ranges_Crypto_Volatility_Index)\n",
    "df_Crypto = data.copy()\n",
    "\n",
    "\n",
    "grouped_data = (\n",
    "    df_Crypto.pivot_table(\n",
    "        index='ranges_Crypto_Volatility_Index',\n",
    "        values=['Crypto Volatility Index', 'Target Value'],\n",
    "                aggfunc={'Crypto Volatility Index': 'count','Target Value': ['sum', 'mean']},\n",
    "    ).reset_index()\n",
    ")\n",
    "\n",
    "print(grouped_data)"
   ]
  },
  {
   "cell_type": "code",
   "execution_count": 43,
   "metadata": {},
   "outputs": [
    {
     "name": "stdout",
     "output_type": "stream",
     "text": [
      "  crypto_volatility_final_range Crypto Volatility Index Target Value     \n",
      "                                                  count         mean  sum\n",
      "0                        63-103                    1164     0.281787  328\n",
      "1                     grater103                     207     0.507246  105\n",
      "2                        less63                     474     0.132911   63\n"
     ]
    }
   ],
   "source": [
    "df_Crypto_no_nan= df.loc[:, ['Crypto Volatility Index', 'Target Value']].dropna()\n",
    "\n",
    "df_Crypto_no_nan[\"crypto_volatility_final_range\"]= np.where(df_Crypto_no_nan[\"Crypto Volatility Index\"]<=63,\"less63\",np.where(df_Crypto_no_nan[\"Crypto Volatility Index\"] > 103,\"grater103\",\"63-103\"))\n",
    "df_new=df_Crypto_no_nan.loc[:,[\"Crypto Volatility Index\",\"crypto_volatility_final_range\"]]\n",
    "df_new.head(100)\n",
    "\n",
    "# יצירת טבלת ציר עם df_Crypto_no_nan\n",
    "df_Crypto_volatility_final_range = (\n",
    "    df_Crypto_no_nan.pivot_table(\n",
    "        index='crypto_volatility_final_range',\n",
    "        values=['Crypto Volatility Index', 'Target Value'],\n",
    "        aggfunc={'Crypto Volatility Index': 'count','Target Value': ['sum', 'mean']},\n",
    "    ).reset_index()\n",
    ")\n",
    "\n",
    "# הצגת הטבלה החדשה\n",
    "print(df_Crypto_volatility_final_range)"
   ]
  },
  {
   "cell_type": "code",
   "execution_count": 44,
   "metadata": {},
   "outputs": [
    {
     "name": "stdout",
     "output_type": "stream",
     "text": [
      " 1)price\n",
      "  Price_final_range Price Target Value     \n",
      "                    count         mean  sum\n",
      "0       24999-45000   619     0.258481  160\n",
      "1       grater45000   318     0.336478  107\n",
      "2         less24999  1711     0.310345  531\n"
     ]
    }
   ],
   "source": [
    "print(\" 1)price\")\n",
    "df_Price_final_range = (\n",
    "    data.pivot_table(\n",
    "        index='Price_final_range',\n",
    "        values=['Price', 'Target Value'],\n",
    "                aggfunc={'Price': 'count','Target Value': ['sum', 'mean']},).reset_index())\n",
    "# הצג את הטבלה החדשה\n",
    "print(df_Price_final_range)"
   ]
  },
  {
   "cell_type": "code",
   "execution_count": 45,
   "metadata": {},
   "outputs": [
    {
     "name": "stdout",
     "output_type": "stream",
     "text": [
      "2) Vol\n",
      "  Vol_final_range Target Value       Vol.\n",
      "                          mean  sum count\n",
      "0         400-600     0.187943   53   282\n",
      "1       getter600     0.374517   97   259\n",
      "2         less400     0.307546  648  2107\n"
     ]
    }
   ],
   "source": [
    "print(\"2) Vol\")\n",
    "Vol_final_range = (\n",
    "    data.pivot_table(\n",
    "        index='Vol_final_range',\n",
    "        values=['Vol.', 'Target Value'],\n",
    "                aggfunc={'Vol.': 'count','Target Value': ['sum', 'mean']},).reset_index())\n",
    "# # הצג את הטבלה החדשה\n",
    "print(Vol_final_range)"
   ]
  },
  {
   "cell_type": "code",
   "execution_count": 46,
   "metadata": {},
   "outputs": [
    {
     "name": "stdout",
     "output_type": "stream",
     "text": [
      "3) SNP\n",
      "  SN&P_Adjusted_final_range SN&P Adjusted Target Value     \n",
      "                                    count         mean  sum\n",
      "0                grater2690          2129     0.267262  569\n",
      "1                  less2690           519     0.441233  229\n"
     ]
    }
   ],
   "source": [
    "print(\"3) SNP\")\n",
    "df_SNP_Adjusted_final_range = (\n",
    "    df.pivot_table(\n",
    "        index='SN&P_Adjusted_final_range',\n",
    "        values=['SN&P Adjusted', 'Target Value'],\n",
    "                aggfunc={'SN&P Adjusted': 'count','Target Value': ['sum', 'mean']},).reset_index())\n",
    "# הצג את הטבלה החדשה\n",
    "print(df_SNP_Adjusted_final_range)\n"
   ]
  },
  {
   "cell_type": "code",
   "execution_count": 47,
   "metadata": {},
   "outputs": [
    {
     "name": "stdout",
     "output_type": "stream",
     "text": [
      "4)DXY\n",
      "                    DXY Adjusted Target Value     \n",
      "                           count         mean  sum\n",
      "ranges_DXY_Adjusted                               \n",
      "88-89                       1675     0.346269  580\n",
      "98-99                        888     0.228604  203\n",
      "108-109                       85     0.176471   15\n"
     ]
    },
    {
     "name": "stderr",
     "output_type": "stream",
     "text": [
      "C:\\Users\\user1\\AppData\\Local\\Temp\\ipykernel_106608\\3055128241.py:9: FutureWarning: The default value of observed=False is deprecated and will change to observed=True in a future version of pandas. Specify observed=False to silence this warning and retain the current behavior\n",
      "  grouped_data = df_DXY_Adjusted.pivot_table(\n"
     ]
    }
   ],
   "source": [
    "print (\"4)DXY\")\n",
    "min_val = int(data['DXY Adjusted'].min())\n",
    "max_val = int(data['DXY Adjusted'].max())\n",
    "ranges = list(range(min_val, max_val + 10, 10)) \n",
    "data['ranges_DXY_Adjusted'] = pd.cut(data['DXY Adjusted'], bins=ranges, labels=[f\"{r}-{r+1}\" for r in ranges[:-1]])\n",
    "# print(data['ranges_DXY_Adjusted']) \n",
    "df_DXY_Adjusted = copy.deepcopy(data)\n",
    "\n",
    "grouped_data = df_DXY_Adjusted.pivot_table( \n",
    "    index='ranges_DXY_Adjusted',\n",
    "    values=['DXY Adjusted', 'Target Value'], \n",
    "    \n",
    "    aggfunc={'DXY Adjusted': 'count', 'Target Value': ['sum', 'mean']}, )\n",
    "\n",
    "# הצגת \n",
    "print(grouped_data)"
   ]
  },
  {
   "cell_type": "code",
   "execution_count": 48,
   "metadata": {},
   "outputs": [
    {
     "name": "stdout",
     "output_type": "stream",
     "text": [
      "5) Gold\n",
      "  GOLD_Adjusted_final_rangee GOLD Adjusted Target Value     \n",
      "                                     count         mean  sum\n",
      "0                  1437-2973          1674     0.258662  433\n",
      "1                greater2937            53     0.377358   20\n",
      "2                   less1437           921     0.374593  345\n"
     ]
    }
   ],
   "source": [
    "print (\"5) Gold\")\n",
    "df_GOLD_Adjusted_final_range = data.pivot_table(\n",
    "    index='GOLD_Adjusted_final_rangee',\n",
    "    values=['GOLD Adjusted', 'Target Value'],\n",
    "    aggfunc={'GOLD Adjusted': 'count', 'Target Value': ['sum', 'mean']}\n",
    ").reset_index()\n",
    "\n",
    "print(df_GOLD_Adjusted_final_range)"
   ]
  },
  {
   "cell_type": "code",
   "execution_count": 49,
   "metadata": {},
   "outputs": [
    {
     "name": "stdout",
     "output_type": "stream",
     "text": [
      "6) ETH Price\n",
      "  ETH_Price_final_range ETH Price Target Value     \n",
      "                            count         mean  sum\n",
      "0             1009-4509      1209     0.271299  328\n",
      "1            grater1474        17     0.176471    3\n",
      "2              less1009      1422     0.328411  467\n"
     ]
    }
   ],
   "source": [
    "print(\"6) ETH Price\")\n",
    "\n",
    "df_ETH_Price_final_range = (\n",
    "    df.pivot_table(\n",
    "        index='ETH_Price_final_range',\n",
    "        values=['ETH Price', 'Target Value'],\n",
    "                aggfunc={'ETH Price': 'count','Target Value': ['sum', 'mean']},).reset_index())\n",
    "# הצג את הטבלה החדשה\n",
    "print(df_ETH_Price_final_range)"
   ]
  },
  {
   "cell_type": "code",
   "execution_count": 50,
   "metadata": {},
   "outputs": [
    {
     "name": "stdout",
     "output_type": "stream",
     "text": [
      "7) ETH_Vol\n",
      "  ETH_Vol_final_range ETH Vol. Target Value     \n",
      "                         count         mean  sum\n",
      "0             100-500      614     0.148208   91\n",
      "1           grater500      622     0.369775  230\n",
      "2             less100     1412     0.337819  477\n"
     ]
    }
   ],
   "source": [
    "print(\"7) ETH_Vol\")\n",
    "\n",
    "df_ETH_Vol_final_range = (\n",
    "    data.pivot_table(\n",
    "        index='ETH_Vol_final_range',\n",
    "        values=['ETH Vol.', 'Target Value'],\n",
    "                aggfunc={'ETH Vol.': 'count','Target Value': ['sum', 'mean']},).reset_index())\n",
    "# הצג את הטבלה החדשה\n",
    "print(df_ETH_Vol_final_range)"
   ]
  },
  {
   "cell_type": "code",
   "execution_count": 51,
   "metadata": {},
   "outputs": [
    {
     "name": "stdout",
     "output_type": "stream",
     "text": [
      "8) OIL\n",
      "  OIL_final_range OIL Price Adjusted Target Value     \n",
      "                               count         mean  sum\n",
      "0          69-100                971     0.217302  211\n",
      "1       grater100                121     0.314050   38\n",
      "2          less69               1556     0.352828  549\n"
     ]
    }
   ],
   "source": [
    "print( \"8) OIL\")\n",
    "\n",
    "df_OIL_final_range = (\n",
    "    df.pivot_table(\n",
    "        index='OIL_final_range',\n",
    "        values=['OIL Price Adjusted', 'Target Value'],\n",
    "                aggfunc={'OIL Price Adjusted': 'count','Target Value': ['sum', 'mean']},).reset_index())\n",
    "# הצג את הטבלה החדשה\n",
    "print(df_OIL_final_range)"
   ]
  },
  {
   "cell_type": "code",
   "execution_count": 52,
   "metadata": {},
   "outputs": [
    {
     "name": "stdout",
     "output_type": "stream",
     "text": [
      "9) Days from the last halving\n",
      "  Days__final_range Days from the last halving Target Value     \n",
      "                                         count         mean  sum\n",
      "0           200-800                       1198     0.398164  477\n",
      "1          800-1400                       1202     0.219634  264\n",
      "2       greater1400                         41     0.414634   17\n",
      "3           less200                        207     0.193237   40\n"
     ]
    }
   ],
   "source": [
    "print(\"9) Days from the last halving\")\n",
    "df_Days__final_range = (\n",
    "    data.pivot_table(\n",
    "        index='Days__final_range',\n",
    "        values=['Days from the last halving', 'Target Value'],\n",
    "                aggfunc={'Days from the last halving': 'count','Target Value': ['sum', 'mean']},).reset_index())\n",
    "# הצג את הטבלה החדשה\n",
    "print(df_Days__final_range)"
   ]
  },
  {
   "cell_type": "code",
   "execution_count": 53,
   "metadata": {},
   "outputs": [
    {
     "name": "stdout",
     "output_type": "stream",
     "text": [
      "10) BTC_Hashprice\n"
     ]
    }
   ],
   "source": [
    "print (\"10) BTC_Hashprice\")"
   ]
  },
  {
   "cell_type": "code",
   "execution_count": 54,
   "metadata": {},
   "outputs": [
    {
     "name": "stdout",
     "output_type": "stream",
     "text": [
      "11) Crypto Volatility Index\n",
      "  crypto_volatility_final_range Crypto Volatility Index Target Value     \n",
      "                                                  count         mean  sum\n",
      "0                        63-103                    1164     0.281787  328\n",
      "1                     grater103                     207     0.507246  105\n",
      "2                        less63                     474     0.132911   63\n"
     ]
    }
   ],
   "source": [
    "print(\"11) Crypto Volatility Index\")\n",
    "df_Crypto_volatility_final_range = (\n",
    "    df_Crypto_no_nan.pivot_table(\n",
    "        index='crypto_volatility_final_range',\n",
    "        values=['Crypto Volatility Index', 'Target Value'],\n",
    "        aggfunc={'Crypto Volatility Index': 'count','Target Value': ['sum', 'mean']},\n",
    "    ).reset_index()\n",
    ")\n",
    "\n",
    "# הצגת הטבלה החדשה\n",
    "print(df_Crypto_volatility_final_range)"
   ]
  },
  {
   "cell_type": "code",
   "execution_count": 55,
   "metadata": {},
   "outputs": [],
   "source": [
    "df_final=data.loc[:,[\"Price\",\"Vol.\",\"SN&P Adjusted\",\"DXY Adjusted\",\"GOLD Adjusted\",\"ETH Price\",\"ETH Vol.\",\"OIL Price Adjusted\",\"Days from the last halving\"]]"
   ]
  },
  {
   "cell_type": "code",
   "execution_count": 56,
   "metadata": {},
   "outputs": [],
   "source": [
    "# df_final=df_final.set_index(\"Price\",inplace=True)"
   ]
  },
  {
   "cell_type": "code",
   "execution_count": 57,
   "metadata": {},
   "outputs": [
    {
     "name": "stdout",
     "output_type": "stream",
     "text": [
      "      Price    Vol.  SN&P Adjusted  DXY Adjusted  GOLD Adjusted  ETH Price  \\\n",
      "0     64902   45.17        4953.56       105.984        2390.45    3169.62   \n",
      "1     64961   49.33        4953.56       105.984        2390.45    3156.63   \n",
      "2     63799  150.34        4953.56       105.984        2390.45    3056.23   \n",
      "3     63481   97.38        5001.89       105.982        2378.25    3064.48   \n",
      "4     61278  118.92        5007.25       105.764        2360.81    2985.82   \n",
      "...     ...     ...            ...           ...            ...        ...   \n",
      "2643    894   37.90        2288.90       100.252        1200.31      10.48   \n",
      "2644    893   58.87        2266.70       100.058        1208.81      10.50   \n",
      "2645    921   32.74        2257.00       100.125        1217.48      10.77   \n",
      "2646    918   47.93        2257.00       100.125        1217.48      10.64   \n",
      "2647    919   40.38        2257.00       100.125        1217.48      10.95   \n",
      "\n",
      "      ETH Vol.  OIL Price Adjusted  Days from the last halving  \n",
      "0       276.66               83.14                           2  \n",
      "1       256.05               83.14                           1  \n",
      "2       645.65               83.14                        1439  \n",
      "3       423.99               82.73                        1438  \n",
      "4       524.88               82.69                        1437  \n",
      "...        ...                 ...                         ...  \n",
      "2643     26.19               52.75                         200  \n",
      "2644    105.21               53.18                         199  \n",
      "2645     54.39               52.75                         198  \n",
      "2646    140.66               52.75                         197  \n",
      "2647    125.31               52.75                         196  \n",
      "\n",
      "[2648 rows x 9 columns]\n"
     ]
    }
   ],
   "source": [
    "print(df_final)"
   ]
  },
  {
   "cell_type": "code",
   "execution_count": 58,
   "metadata": {},
   "outputs": [
    {
     "name": "stdout",
     "output_type": "stream",
     "text": [
      "      Price    Vol.  SN&P Adjusted  DXY Adjusted  GOLD Adjusted  ETH Price  \\\n",
      "0     64902   45.17        4953.56       105.984        2390.45    3169.62   \n",
      "1     64961   49.33        4953.56       105.984        2390.45    3156.63   \n",
      "2     63799  150.34        4953.56       105.984        2390.45    3056.23   \n",
      "3     63481   97.38        5001.89       105.982        2378.25    3064.48   \n",
      "4     61278  118.92        5007.25       105.764        2360.81    2985.82   \n",
      "...     ...     ...            ...           ...            ...        ...   \n",
      "2643    894   37.90        2288.90       100.252        1200.31      10.48   \n",
      "2644    893   58.87        2266.70       100.058        1208.81      10.50   \n",
      "2645    921   32.74        2257.00       100.125        1217.48      10.77   \n",
      "2646    918   47.93        2257.00       100.125        1217.48      10.64   \n",
      "2647    919   40.38        2257.00       100.125        1217.48      10.95   \n",
      "\n",
      "      ETH Vol.  OIL Price Adjusted  Days from the last halving  \n",
      "0       276.66               83.14                           2  \n",
      "1       256.05               83.14                           1  \n",
      "2       645.65               83.14                        1439  \n",
      "3       423.99               82.73                        1438  \n",
      "4       524.88               82.69                        1437  \n",
      "...        ...                 ...                         ...  \n",
      "2643     26.19               52.75                         200  \n",
      "2644    105.21               53.18                         199  \n",
      "2645     54.39               52.75                         198  \n",
      "2646    140.66               52.75                         197  \n",
      "2647    125.31               52.75                         196  \n",
      "\n",
      "[2648 rows x 9 columns]\n"
     ]
    }
   ],
   "source": [
    "print(df_final)"
   ]
  },
  {
   "cell_type": "code",
   "execution_count": 59,
   "metadata": {},
   "outputs": [],
   "source": [
    "df_final[\"TV\"]=data[\"Target Value\"].shift(-1)"
   ]
  },
  {
   "cell_type": "code",
   "execution_count": 60,
   "metadata": {},
   "outputs": [],
   "source": [
    "# print(df_final)"
   ]
  },
  {
   "cell_type": "code",
   "execution_count": 61,
   "metadata": {},
   "outputs": [],
   "source": [
    "df_final=df_final.dropna()"
   ]
  },
  {
   "cell_type": "code",
   "execution_count": 62,
   "metadata": {},
   "outputs": [],
   "source": [
    "df_final[\"TV\"] = df_final[\"TV\"].apply(int)"
   ]
  },
  {
   "cell_type": "code",
   "execution_count": 63,
   "metadata": {},
   "outputs": [
    {
     "name": "stdout",
     "output_type": "stream",
     "text": [
      "      Price    Vol.  SN&P Adjusted  DXY Adjusted  GOLD Adjusted  ETH Price  \\\n",
      "0     64902   45.17        4953.56       105.984        2390.45    3169.62   \n",
      "1     64961   49.33        4953.56       105.984        2390.45    3156.63   \n",
      "2     63799  150.34        4953.56       105.984        2390.45    3056.23   \n",
      "3     63481   97.38        5001.89       105.982        2378.25    3064.48   \n",
      "4     61278  118.92        5007.25       105.764        2360.81    2985.82   \n",
      "...     ...     ...            ...           ...            ...        ...   \n",
      "2642    915   33.80        2294.10       100.266        1188.57      10.63   \n",
      "2643    894   37.90        2288.90       100.252        1200.31      10.48   \n",
      "2644    893   58.87        2266.70       100.058        1208.81      10.50   \n",
      "2645    921   32.74        2257.00       100.125        1217.48      10.77   \n",
      "2646    918   47.93        2257.00       100.125        1217.48      10.64   \n",
      "\n",
      "      ETH Vol.  OIL Price Adjusted  Days from the last halving  TV  \n",
      "0       276.66               83.14                           2   0  \n",
      "1       256.05               83.14                           1   0  \n",
      "2       645.65               83.14                        1439   1  \n",
      "3       423.99               82.73                        1438   1  \n",
      "4       524.88               82.69                        1437   0  \n",
      "...        ...                 ...                         ...  ..  \n",
      "2642     84.72               53.78                         201   0  \n",
      "2643     26.19               52.75                         200   1  \n",
      "2644    105.21               53.18                         199   0  \n",
      "2645     54.39               52.75                         198   0  \n",
      "2646    140.66               52.75                         197   1  \n",
      "\n",
      "[2647 rows x 10 columns]\n"
     ]
    }
   ],
   "source": [
    "print(df_final)"
   ]
  },
  {
   "cell_type": "code",
   "execution_count": 64,
   "metadata": {},
   "outputs": [],
   "source": [
    "df_final[\"TV2\"]=df_final[\"Price\"].shift(-1)"
   ]
  },
  {
   "cell_type": "code",
   "execution_count": 65,
   "metadata": {},
   "outputs": [],
   "source": [
    "df_final=df_final.dropna()"
   ]
  },
  {
   "cell_type": "code",
   "execution_count": 66,
   "metadata": {},
   "outputs": [
    {
     "name": "stdout",
     "output_type": "stream",
     "text": [
      "      Price    Vol.  SN&P Adjusted  DXY Adjusted  GOLD Adjusted  ETH Price  \\\n",
      "0     64902   45.17        4953.56       105.984        2390.45    3169.62   \n",
      "1     64961   49.33        4953.56       105.984        2390.45    3156.63   \n",
      "2     63799  150.34        4953.56       105.984        2390.45    3056.23   \n",
      "3     63481   97.38        5001.89       105.982        2378.25    3064.48   \n",
      "4     61278  118.92        5007.25       105.764        2360.81    2985.82   \n",
      "...     ...     ...            ...           ...            ...        ...   \n",
      "2641    918   30.97        2291.60       100.281        1191.60      10.50   \n",
      "2642    915   33.80        2294.10       100.266        1188.57      10.63   \n",
      "2643    894   37.90        2288.90       100.252        1200.31      10.48   \n",
      "2644    893   58.87        2266.70       100.058        1208.81      10.50   \n",
      "2645    921   32.74        2257.00       100.125        1217.48      10.77   \n",
      "\n",
      "      ETH Vol.  OIL Price Adjusted  Days from the last halving  TV      TV2  \n",
      "0       276.66               83.14                           2   0  64961.0  \n",
      "1       256.05               83.14                           1   0  63799.0  \n",
      "2       645.65               83.14                        1439   1  63481.0  \n",
      "3       423.99               82.73                        1438   1  61278.0  \n",
      "4       524.88               82.69                        1437   0  63805.0  \n",
      "...        ...                 ...                         ...  ..      ...  \n",
      "2641     61.25               53.17                         202   0    915.0  \n",
      "2642     84.72               53.78                         201   0    894.0  \n",
      "2643     26.19               52.75                         200   1    893.0  \n",
      "2644    105.21               53.18                         199   0    921.0  \n",
      "2645     54.39               52.75                         198   0    918.0  \n",
      "\n",
      "[2646 rows x 11 columns]\n"
     ]
    }
   ],
   "source": [
    "print(df_final)"
   ]
  },
  {
   "cell_type": "code",
   "execution_count": 67,
   "metadata": {},
   "outputs": [
    {
     "data": {
      "text/html": [
       "<div>\n",
       "<style scoped>\n",
       "    .dataframe tbody tr th:only-of-type {\n",
       "        vertical-align: middle;\n",
       "    }\n",
       "\n",
       "    .dataframe tbody tr th {\n",
       "        vertical-align: top;\n",
       "    }\n",
       "\n",
       "    .dataframe thead th {\n",
       "        text-align: right;\n",
       "    }\n",
       "</style>\n",
       "<table border=\"1\" class=\"dataframe\">\n",
       "  <thead>\n",
       "    <tr style=\"text-align: right;\">\n",
       "      <th></th>\n",
       "      <th>index</th>\n",
       "      <th>Price</th>\n",
       "      <th>Vol.</th>\n",
       "      <th>SN&amp;P Adjusted</th>\n",
       "      <th>DXY Adjusted</th>\n",
       "      <th>GOLD Adjusted</th>\n",
       "      <th>ETH Price</th>\n",
       "      <th>ETH Vol.</th>\n",
       "      <th>OIL Price Adjusted</th>\n",
       "      <th>Days from the last halving</th>\n",
       "      <th>TV</th>\n",
       "      <th>TV2</th>\n",
       "    </tr>\n",
       "  </thead>\n",
       "  <tbody>\n",
       "    <tr>\n",
       "      <th>0</th>\n",
       "      <td>0</td>\n",
       "      <td>64902</td>\n",
       "      <td>45.17</td>\n",
       "      <td>4953.56</td>\n",
       "      <td>105.984</td>\n",
       "      <td>2390.45</td>\n",
       "      <td>3169.62</td>\n",
       "      <td>276.66</td>\n",
       "      <td>83.14</td>\n",
       "      <td>2</td>\n",
       "      <td>0</td>\n",
       "      <td>64961.0</td>\n",
       "    </tr>\n",
       "    <tr>\n",
       "      <th>1</th>\n",
       "      <td>1</td>\n",
       "      <td>64961</td>\n",
       "      <td>49.33</td>\n",
       "      <td>4953.56</td>\n",
       "      <td>105.984</td>\n",
       "      <td>2390.45</td>\n",
       "      <td>3156.63</td>\n",
       "      <td>256.05</td>\n",
       "      <td>83.14</td>\n",
       "      <td>1</td>\n",
       "      <td>0</td>\n",
       "      <td>63799.0</td>\n",
       "    </tr>\n",
       "    <tr>\n",
       "      <th>2</th>\n",
       "      <td>2</td>\n",
       "      <td>63799</td>\n",
       "      <td>150.34</td>\n",
       "      <td>4953.56</td>\n",
       "      <td>105.984</td>\n",
       "      <td>2390.45</td>\n",
       "      <td>3056.23</td>\n",
       "      <td>645.65</td>\n",
       "      <td>83.14</td>\n",
       "      <td>1439</td>\n",
       "      <td>1</td>\n",
       "      <td>63481.0</td>\n",
       "    </tr>\n",
       "    <tr>\n",
       "      <th>3</th>\n",
       "      <td>3</td>\n",
       "      <td>63481</td>\n",
       "      <td>97.38</td>\n",
       "      <td>5001.89</td>\n",
       "      <td>105.982</td>\n",
       "      <td>2378.25</td>\n",
       "      <td>3064.48</td>\n",
       "      <td>423.99</td>\n",
       "      <td>82.73</td>\n",
       "      <td>1438</td>\n",
       "      <td>1</td>\n",
       "      <td>61278.0</td>\n",
       "    </tr>\n",
       "    <tr>\n",
       "      <th>4</th>\n",
       "      <td>4</td>\n",
       "      <td>61278</td>\n",
       "      <td>118.92</td>\n",
       "      <td>5007.25</td>\n",
       "      <td>105.764</td>\n",
       "      <td>2360.81</td>\n",
       "      <td>2985.82</td>\n",
       "      <td>524.88</td>\n",
       "      <td>82.69</td>\n",
       "      <td>1437</td>\n",
       "      <td>0</td>\n",
       "      <td>63805.0</td>\n",
       "    </tr>\n",
       "    <tr>\n",
       "      <th>...</th>\n",
       "      <td>...</td>\n",
       "      <td>...</td>\n",
       "      <td>...</td>\n",
       "      <td>...</td>\n",
       "      <td>...</td>\n",
       "      <td>...</td>\n",
       "      <td>...</td>\n",
       "      <td>...</td>\n",
       "      <td>...</td>\n",
       "      <td>...</td>\n",
       "      <td>...</td>\n",
       "      <td>...</td>\n",
       "    </tr>\n",
       "    <tr>\n",
       "      <th>2641</th>\n",
       "      <td>2641</td>\n",
       "      <td>918</td>\n",
       "      <td>30.97</td>\n",
       "      <td>2291.60</td>\n",
       "      <td>100.281</td>\n",
       "      <td>1191.60</td>\n",
       "      <td>10.50</td>\n",
       "      <td>61.25</td>\n",
       "      <td>53.17</td>\n",
       "      <td>202</td>\n",
       "      <td>0</td>\n",
       "      <td>915.0</td>\n",
       "    </tr>\n",
       "    <tr>\n",
       "      <th>2642</th>\n",
       "      <td>2642</td>\n",
       "      <td>915</td>\n",
       "      <td>33.80</td>\n",
       "      <td>2294.10</td>\n",
       "      <td>100.266</td>\n",
       "      <td>1188.57</td>\n",
       "      <td>10.63</td>\n",
       "      <td>84.72</td>\n",
       "      <td>53.78</td>\n",
       "      <td>201</td>\n",
       "      <td>0</td>\n",
       "      <td>894.0</td>\n",
       "    </tr>\n",
       "    <tr>\n",
       "      <th>2643</th>\n",
       "      <td>2643</td>\n",
       "      <td>894</td>\n",
       "      <td>37.90</td>\n",
       "      <td>2288.90</td>\n",
       "      <td>100.252</td>\n",
       "      <td>1200.31</td>\n",
       "      <td>10.48</td>\n",
       "      <td>26.19</td>\n",
       "      <td>52.75</td>\n",
       "      <td>200</td>\n",
       "      <td>1</td>\n",
       "      <td>893.0</td>\n",
       "    </tr>\n",
       "    <tr>\n",
       "      <th>2644</th>\n",
       "      <td>2644</td>\n",
       "      <td>893</td>\n",
       "      <td>58.87</td>\n",
       "      <td>2266.70</td>\n",
       "      <td>100.058</td>\n",
       "      <td>1208.81</td>\n",
       "      <td>10.50</td>\n",
       "      <td>105.21</td>\n",
       "      <td>53.18</td>\n",
       "      <td>199</td>\n",
       "      <td>0</td>\n",
       "      <td>921.0</td>\n",
       "    </tr>\n",
       "    <tr>\n",
       "      <th>2645</th>\n",
       "      <td>2645</td>\n",
       "      <td>921</td>\n",
       "      <td>32.74</td>\n",
       "      <td>2257.00</td>\n",
       "      <td>100.125</td>\n",
       "      <td>1217.48</td>\n",
       "      <td>10.77</td>\n",
       "      <td>54.39</td>\n",
       "      <td>52.75</td>\n",
       "      <td>198</td>\n",
       "      <td>0</td>\n",
       "      <td>918.0</td>\n",
       "    </tr>\n",
       "  </tbody>\n",
       "</table>\n",
       "<p>2646 rows × 12 columns</p>\n",
       "</div>"
      ],
      "text/plain": [
       "      index  Price    Vol.  SN&P Adjusted  DXY Adjusted  GOLD Adjusted  \\\n",
       "0         0  64902   45.17        4953.56       105.984        2390.45   \n",
       "1         1  64961   49.33        4953.56       105.984        2390.45   \n",
       "2         2  63799  150.34        4953.56       105.984        2390.45   \n",
       "3         3  63481   97.38        5001.89       105.982        2378.25   \n",
       "4         4  61278  118.92        5007.25       105.764        2360.81   \n",
       "...     ...    ...     ...            ...           ...            ...   \n",
       "2641   2641    918   30.97        2291.60       100.281        1191.60   \n",
       "2642   2642    915   33.80        2294.10       100.266        1188.57   \n",
       "2643   2643    894   37.90        2288.90       100.252        1200.31   \n",
       "2644   2644    893   58.87        2266.70       100.058        1208.81   \n",
       "2645   2645    921   32.74        2257.00       100.125        1217.48   \n",
       "\n",
       "      ETH Price  ETH Vol.  OIL Price Adjusted  Days from the last halving  TV  \\\n",
       "0       3169.62    276.66               83.14                           2   0   \n",
       "1       3156.63    256.05               83.14                           1   0   \n",
       "2       3056.23    645.65               83.14                        1439   1   \n",
       "3       3064.48    423.99               82.73                        1438   1   \n",
       "4       2985.82    524.88               82.69                        1437   0   \n",
       "...         ...       ...                 ...                         ...  ..   \n",
       "2641      10.50     61.25               53.17                         202   0   \n",
       "2642      10.63     84.72               53.78                         201   0   \n",
       "2643      10.48     26.19               52.75                         200   1   \n",
       "2644      10.50    105.21               53.18                         199   0   \n",
       "2645      10.77     54.39               52.75                         198   0   \n",
       "\n",
       "          TV2  \n",
       "0     64961.0  \n",
       "1     63799.0  \n",
       "2     63481.0  \n",
       "3     61278.0  \n",
       "4     63805.0  \n",
       "...       ...  \n",
       "2641    915.0  \n",
       "2642    894.0  \n",
       "2643    893.0  \n",
       "2644    921.0  \n",
       "2645    918.0  \n",
       "\n",
       "[2646 rows x 12 columns]"
      ]
     },
     "execution_count": 67,
     "metadata": {},
     "output_type": "execute_result"
    }
   ],
   "source": [
    "df_final.reset_index()"
   ]
  },
  {
   "cell_type": "code",
   "execution_count": 68,
   "metadata": {},
   "outputs": [
    {
     "name": "stdout",
     "output_type": "stream",
     "text": [
      "Accuracy: 0.0018867924528301887\n",
      "Confusion Matrix:\n",
      "[[0 0 0 ... 0 0 0]\n",
      " [0 0 0 ... 0 0 0]\n",
      " [0 0 0 ... 0 0 0]\n",
      " ...\n",
      " [0 0 0 ... 0 0 0]\n",
      " [0 0 0 ... 0 0 1]\n",
      " [0 0 0 ... 0 0 0]]\n",
      "Classification Report:\n",
      "              precision    recall  f1-score   support\n",
      "\n",
      "       918.0       0.00      0.00      0.00         1\n",
      "       982.0       0.00      0.00      0.00         1\n",
      "      1013.0       0.00      0.00      0.00         1\n",
      "      1031.0       0.00      0.00      0.00         1\n",
      "      1041.0       0.00      0.00      0.00         1\n",
      "      1044.0       0.00      0.00      0.00         2\n",
      "      1049.0       0.00      0.00      0.00         1\n",
      "      1119.0       0.00      0.00      0.00         1\n",
      "      1147.0       0.00      0.00      0.00         0\n",
      "      1172.0       0.00      0.00      0.00         1\n",
      "      1176.0       0.00      0.00      0.00         1\n",
      "      1180.0       0.00      0.00      0.00         1\n",
      "      1188.0       0.00      0.00      0.00         1\n",
      "      1194.0       0.00      0.00      0.00         1\n",
      "      1220.0       0.00      0.00      0.00         1\n",
      "      1286.0       0.00      0.00      0.00         1\n",
      "      1485.0       0.00      0.00      0.00         1\n",
      "      1801.0       0.00      0.00      0.00         1\n",
      "      1819.0       0.00      0.00      0.00         1\n",
      "      1914.0       0.00      0.00      0.00         1\n",
      "      2124.0       0.00      0.00      0.00         1\n",
      "      2192.0       0.00      0.00      0.00         1\n",
      "      2282.0       0.00      0.00      0.00         1\n",
      "      2320.0       0.00      0.00      0.00         1\n",
      "      2344.0       0.00      0.00      0.00         1\n",
      "      2362.0       0.00      0.00      0.00         1\n",
      "      2492.0       0.00      0.00      0.00         1\n",
      "      2524.0       0.00      0.00      0.00         1\n",
      "      2536.0       0.00      0.00      0.00         1\n",
      "      2541.0       0.00      0.00      0.00         1\n",
      "      2577.0       0.00      0.00      0.00         1\n",
      "      2627.0       0.00      0.00      0.00         1\n",
      "      2691.0       0.00      0.00      0.00         0\n",
      "      2713.0       0.00      0.00      0.00         1\n",
      "      2763.0       0.00      0.00      0.00         1\n",
      "      2806.0       0.00      0.00      0.00         1\n",
      "      2870.0       0.00      0.00      0.00         1\n",
      "      2900.0       0.00      0.00      0.00         1\n",
      "      3247.0       0.00      0.00      0.00         1\n",
      "      3262.0       0.00      0.00      0.00         1\n",
      "      3401.0       0.00      0.00      0.00         0\n",
      "      3404.0       0.00      0.00      0.00         0\n",
      "      3414.0       0.00      0.00      0.00         1\n",
      "      3425.0       0.00      0.00      0.00         0\n",
      "      3430.0       0.00      0.00      0.00         1\n",
      "      3442.0       0.00      0.00      0.00         1\n",
      "      3460.0       0.00      0.00      0.00         0\n",
      "      3468.0       0.00      0.00      0.00         0\n",
      "      3508.0       0.00      0.00      0.00         0\n",
      "      3542.0       0.00      0.00      0.00         1\n",
      "      3567.0       0.00      0.00      0.00         0\n",
      "      3572.0       0.00      0.00      0.00         1\n",
      "      3597.0       0.00      0.00      0.00         1\n",
      "      3617.0       0.00      0.00      0.00         0\n",
      "      3661.0       0.00      0.00      0.00         1\n",
      "      3667.0       0.00      0.00      0.00         1\n",
      "      3668.0       0.00      0.00      0.00         1\n",
      "      3689.0       0.00      0.00      0.00         1\n",
      "      3698.0       0.00      0.00      0.00         1\n",
      "      3706.0       0.00      0.00      0.00         1\n",
      "      3709.0       0.00      0.00      0.00         1\n",
      "      3762.0       0.00      0.00      0.00         1\n",
      "      3810.0       0.00      0.00      0.00         1\n",
      "      3815.0       0.00      0.00      0.00         1\n",
      "      3823.0       0.00      0.00      0.00         1\n",
      "      3837.0       0.00      0.00      0.00         1\n",
      "      3850.0       0.00      0.00      0.00         1\n",
      "      3870.0       0.00      0.00      0.00         0\n",
      "      3879.0       0.00      0.00      0.00         1\n",
      "      3882.0       0.00      0.00      0.00         0\n",
      "      3892.0       0.00      0.00      0.00         1\n",
      "      3896.0       0.00      0.00      0.00         1\n",
      "      3908.0       0.00      0.00      0.00         1\n",
      "      3932.0       0.00      0.00      0.00         1\n",
      "      3958.0       0.00      0.00      0.00         1\n",
      "      3971.0       0.00      0.00      0.00         1\n",
      "      3972.0       0.00      0.00      0.00         1\n",
      "      3990.0       0.00      0.00      0.00         1\n",
      "      4002.0       0.00      0.00      0.00         1\n",
      "      4039.0       0.00      0.00      0.00         1\n",
      "      4041.0       0.00      0.00      0.00         1\n",
      "      4102.0       0.00      0.00      0.00         1\n",
      "      4120.0       0.00      0.00      0.00         1\n",
      "      4150.0       0.00      0.00      0.00         1\n",
      "      4161.0       0.00      0.00      0.00         1\n",
      "      4195.0       0.00      0.00      0.00         1\n",
      "      4217.0       0.00      0.00      0.00         1\n",
      "      4218.0       0.00      0.00      0.00         1\n",
      "      4267.0       0.00      0.00      0.00         1\n",
      "      4326.0       0.00      0.00      0.00         1\n",
      "      4352.0       0.00      0.00      0.00         1\n",
      "      4356.0       0.00      0.00      0.00         1\n",
      "      4524.0       0.00      0.00      0.00         1\n",
      "      4611.0       0.00      0.00      0.00         1\n",
      "      4826.0       0.00      0.00      0.00         0\n",
      "      5030.0       0.00      0.00      0.00         0\n",
      "      5134.0       0.00      0.00      0.00         1\n",
      "      5180.0       0.00      0.00      0.00         1\n",
      "      5208.0       0.00      0.00      0.00         1\n",
      "      5235.0       0.00      0.00      0.00         1\n",
      "      5241.0       0.00      0.00      0.00         1\n",
      "      5264.0       0.00      0.00      0.00         1\n",
      "      5361.0       0.00      0.00      0.00         1\n",
      "      5432.0       0.00      0.00      0.00         0\n",
      "      5584.0       0.00      0.00      0.00         1\n",
      "      5598.0       0.00      0.00      0.00         0\n",
      "      5745.0       0.00      0.00      0.00         1\n",
      "      5822.0       0.00      0.00      0.00         1\n",
      "      5824.0       0.00      0.00      0.00         0\n",
      "      5830.0       0.00      0.00      0.00         1\n",
      "      5878.0       0.00      0.00      0.00         1\n",
      "      5883.0       0.00      0.00      0.00         1\n",
      "      6006.0       0.00      0.00      0.00         1\n",
      "      6055.0       0.00      0.00      0.00         1\n",
      "      6154.0       0.00      0.00      0.00         1\n",
      "      6172.0       0.00      0.00      0.00         0\n",
      "      6186.0       0.00      0.00      0.00         1\n",
      "      6191.0       0.00      0.00      0.00         1\n",
      "      6251.0       0.00      0.00      0.00         1\n",
      "      6256.0       0.00      0.00      0.00         2\n",
      "      6293.0       0.00      0.00      0.00         1\n",
      "      6307.0       0.00      0.00      0.00         1\n",
      "      6312.0       0.00      0.00      0.00         1\n",
      "      6313.0       0.00      0.00      0.00         1\n",
      "      6321.0       0.00      0.00      0.00         1\n",
      "      6325.0       0.00      0.00      0.00         1\n",
      "      6326.0       0.00      0.00      0.00         1\n",
      "      6386.0       0.00      0.00      0.00         1\n",
      "      6389.0       0.00      0.00      0.00         1\n",
      "      6390.0       0.00      0.00      0.00         1\n",
      "      6412.0       0.00      0.00      0.00         0\n",
      "      6427.0       0.00      0.00      0.00         1\n",
      "      6460.0       0.00      0.00      0.00         1\n",
      "      6482.0       0.00      0.00      0.00         0\n",
      "      6489.0       0.00      0.00      0.00         1\n",
      "      6494.0       0.00      0.00      0.00         1\n",
      "      6500.0       0.00      0.00      0.00         0\n",
      "      6514.0       0.00      0.00      0.00         1\n",
      "      6546.0       0.00      0.00      0.00         1\n",
      "      6584.0       0.00      0.00      0.00         2\n",
      "      6598.0       0.00      0.00      0.00         1\n",
      "      6611.0       0.00      0.00      0.00         1\n",
      "      6618.0       0.00      0.00      0.00         1\n",
      "      6635.0       0.00      0.00      0.00         1\n",
      "      6650.0       0.00      0.00      0.00         1\n",
      "      6686.0       0.00      0.00      0.00         1\n",
      "      6719.0       0.00      0.00      0.00         1\n",
      "      6725.0       0.00      0.00      0.00         1\n",
      "      6728.0       0.00      0.00      0.00         1\n",
      "      6737.0       0.00      0.00      0.00         1\n",
      "      6744.0       0.00      0.00      0.00         1\n",
      "      6765.0       0.00      0.00      0.00         1\n",
      "      6808.0       0.00      0.00      0.00         1\n",
      "      6850.0       0.00      0.00      0.00         1\n",
      "      6885.0       0.00      0.00      0.00         1\n",
      "      6984.0       0.00      0.00      0.00         1\n",
      "      7196.0       0.00      0.00      0.00         0\n",
      "      7208.0       0.00      0.00      0.00         0\n",
      "      7261.0       0.00      0.00      0.00         1\n",
      "      7291.0       0.00      0.00      0.00         1\n",
      "      7293.0       0.00      0.00      0.00         1\n",
      "      7298.0       0.00      0.00      0.00         1\n",
      "      7322.0       0.00      0.00      0.00         1\n",
      "      7343.0       0.00      0.00      0.00         1\n",
      "      7399.0       0.00      0.00      0.00         1\n",
      "      7419.0       0.00      0.00      0.00         1\n",
      "      7424.0       0.00      0.00      0.00         1\n",
      "      7444.0       0.00      0.00      0.00         1\n",
      "      7477.0       0.00      0.00      0.00         1\n",
      "      7515.0       0.00      0.00      0.00         1\n",
      "      7540.0       0.00      0.00      0.00         1\n",
      "      7592.0       0.00      0.00      0.00         1\n",
      "      7627.0       0.00      0.00      0.00         1\n",
      "      7646.0       0.00      0.00      0.00         1\n",
      "      7661.0       0.00      0.00      0.00         1\n",
      "      7697.0       0.00      0.00      0.00         1\n",
      "      7701.0       0.00      0.00      0.00         0\n",
      "      7801.0       0.00      0.00      0.00         1\n",
      "      7806.0       0.00      0.00      0.00         0\n",
      "      7871.0       0.00      0.00      0.00         1\n",
      "      7933.0       0.00      0.00      0.00         1\n",
      "      7937.0       0.00      0.00      0.00         1\n",
      "      7954.0       0.00      0.00      0.00         1\n",
      "      7970.0       0.00      0.00      0.00         0\n",
      "      7985.0       0.00      0.00      0.00         1\n",
      "      7987.0       0.00      0.00      0.00         1\n",
      "      8063.0       0.00      0.00      0.00         1\n",
      "      8073.0       0.00      0.00      0.00         1\n",
      "      8099.0       0.00      0.00      0.00         1\n",
      "      8111.0       0.00      0.00      0.00         1\n",
      "      8145.0       0.00      0.00      0.00         1\n",
      "      8155.0       0.00      0.00      0.00         1\n",
      "      8184.0       0.00      0.00      0.00         1\n",
      "      8187.0       0.00      0.00      0.00         0\n",
      "      8200.0       0.00      0.00      0.00         1\n",
      "      8208.0       0.00      0.00      0.00         0\n",
      "      8245.0       0.00      0.00      0.00         0\n",
      "      8267.0       0.00      0.00      0.00         1\n",
      "      8290.0       0.00      0.00      0.00         1\n",
      "      8304.0       0.00      0.00      0.00         1\n",
      "      8403.0       0.00      0.00      0.00         0\n",
      "      8509.0       0.00      0.00      0.00         1\n",
      "      8540.0       0.00      0.00      0.00         1\n",
      "      8559.0       0.00      0.00      0.00         1\n",
      "      8607.0       0.00      0.00      0.00         0\n",
      "      8726.0       0.00      0.00      0.00         0\n",
      "      8728.0       0.00      0.00      0.00         0\n",
      "      8736.0       0.00      0.00      0.00         1\n",
      "      8757.0       0.00      0.00      0.00         0\n",
      "      8761.0       0.00      0.00      0.00         1\n",
      "      8812.0       0.00      0.00      0.00         0\n",
      "      8818.0       0.00      0.00      0.00         1\n",
      "      8821.0       0.00      0.00      0.00         1\n",
      "      8829.0       0.00      0.00      0.00         0\n",
      "      8867.0       0.00      0.00      0.00         1\n",
      "      8893.0       0.00      0.00      0.00         1\n",
      "      8912.0       0.00      0.00      0.00         1\n",
      "      8916.0       0.00      0.00      0.00         0\n",
      "      8966.0       0.00      0.00      0.00         1\n",
      "      9025.0       0.00      0.00      0.00         1\n",
      "      9060.0       0.00      0.00      0.00         1\n",
      "      9074.0       0.00      0.00      0.00         1\n",
      "      9134.0       0.00      0.00      0.00         1\n",
      "      9135.0       0.00      0.00      0.00         1\n",
      "      9162.0       0.00      0.00      0.00         1\n",
      "      9193.0       0.00      0.00      0.00         1\n",
      "      9199.0       0.00      0.00      0.00         0\n",
      "      9217.0       0.00      0.00      0.00         1\n",
      "      9229.0       0.00      0.00      0.00         1\n",
      "      9230.0       0.00      0.00      0.00         0\n",
      "      9253.0       0.00      0.00      0.00         1\n",
      "      9285.0       0.00      0.00      0.00         1\n",
      "      9296.0       0.00      0.00      0.00         0\n",
      "      9300.0       0.00      0.00      0.00         1\n",
      "      9310.0       0.00      0.00      0.00         1\n",
      "      9318.0       0.00      0.00      0.00         1\n",
      "      9334.0       0.00      0.00      0.00         1\n",
      "      9377.0       0.00      0.00      0.00         1\n",
      "      9379.0       0.00      0.00      0.00         1\n",
      "      9415.0       0.00      0.00      0.00         1\n",
      "      9425.0       0.00      0.00      0.00         1\n",
      "      9492.0       0.00      0.00      0.00         1\n",
      "      9513.0       0.00      0.00      0.00         1\n",
      "      9527.0       0.00      0.00      0.00         1\n",
      "      9546.0       0.00      0.00      0.00         1\n",
      "      9572.0       0.00      0.00      0.00         1\n",
      "      9580.0       0.00      0.00      0.00         1\n",
      "      9602.0       0.00      0.00      0.00         1\n",
      "      9702.0       0.00      0.00      0.00         0\n",
      "      9749.0       0.00      0.00      0.00         1\n",
      "      9768.0       0.00      0.00      0.00         1\n",
      "      9773.0       0.00      0.00      0.00         1\n",
      "      9777.0       0.00      0.00      0.00         1\n",
      "      9837.0       0.00      0.00      0.00         1\n",
      "      9841.0       0.00      0.00      0.00         1\n",
      "      9878.0       0.00      0.00      0.00         1\n",
      "      9895.0       0.00      0.00      0.00         1\n",
      "      9902.0       0.00      0.00      0.00         1\n",
      "      9932.0       0.00      0.00      0.00         1\n",
      "     10105.0       0.00      0.00      0.00         1\n",
      "     10168.0       0.00      0.00      0.00         1\n",
      "     10189.0       0.00      0.00      0.00         1\n",
      "     10229.0       0.00      0.00      0.00         1\n",
      "     10285.0       0.00      0.00      0.00         1\n",
      "     10342.0       0.00      0.00      0.00         1\n",
      "     10348.0       0.00      0.00      0.00         1\n",
      "     10544.0       0.00      0.00      0.00         1\n",
      "     10566.0       0.00      0.00      0.00         1\n",
      "     10568.0       0.00      0.00      0.00         1\n",
      "     10602.0       0.00      0.00      0.00         1\n",
      "     10616.0       0.00      0.00      0.00         0\n",
      "     10651.0       0.00      0.00      0.00         1\n",
      "     10818.0       0.00      0.00      0.00         1\n",
      "     10826.0       0.00      0.00      0.00         1\n",
      "     10835.0       0.00      0.00      0.00         0\n",
      "     10861.0       0.00      0.00      0.00         1\n",
      "     10892.0       0.00      0.00      0.00         1\n",
      "     10924.0       0.00      0.00      0.00         1\n",
      "     10934.0       0.00      0.00      0.00         1\n",
      "     11066.0       0.00      0.00      0.00         1\n",
      "     11192.0       0.00      0.00      0.00         1\n",
      "     11224.0       0.00      0.00      0.00         1\n",
      "     11238.0       0.00      0.00      0.00         1\n",
      "     11314.0       0.00      0.00      0.00         0\n",
      "     11333.0       0.00      0.00      0.00         1\n",
      "     11342.0       0.00      0.00      0.00         1\n",
      "     11362.0       0.00      0.00      0.00         1\n",
      "     11394.0       0.00      0.00      0.00         1\n",
      "     11415.0       0.00      0.00      0.00         1\n",
      "     11423.0       0.00      0.00      0.00         1\n",
      "     11468.0       0.00      0.00      0.00         1\n",
      "     11503.0       0.00      0.00      0.00         1\n",
      "     11517.0       0.00      0.00      0.00         1\n",
      "     11641.0       0.00      0.00      0.00         1\n",
      "     11661.0       0.00      0.00      0.00         1\n",
      "     11667.0       0.00      0.00      0.00         1\n",
      "     11750.0       0.00      0.00      0.00         0\n",
      "     11764.0       0.00      0.00      0.00         1\n",
      "     11795.0       0.00      0.00      0.00         1\n",
      "     11816.0       0.00      0.00      0.00         1\n",
      "     11899.0       0.00      0.00      0.00         0\n",
      "     12013.0       0.00      0.00      0.00         1\n",
      "     12110.0       0.00      0.00      0.00         1\n",
      "     12191.0       0.00      0.00      0.00         1\n",
      "     13063.0       0.00      0.00      0.00         1\n",
      "     13457.0       0.00      0.00      0.00         1\n",
      "     13759.0       0.00      0.00      0.00         1\n",
      "     13886.0       0.00      0.00      0.00         1\n",
      "     14019.0       0.00      0.00      0.00         1\n",
      "     14145.0       0.00      0.00      0.00         1\n",
      "     14828.0       0.00      0.00      0.00         0\n",
      "     15043.0       0.00      0.00      0.00         1\n",
      "     15180.0       0.00      0.00      0.00         1\n",
      "     15327.0       0.00      0.00      0.00         0\n",
      "     15483.0       0.00      0.00      0.00         1\n",
      "     15632.0       0.00      0.00      0.00         1\n",
      "     15886.0       0.00      0.00      0.00         1\n",
      "     16071.0       0.00      0.00      0.00         1\n",
      "     16211.0       0.00      0.00      0.00         1\n",
      "     16286.0       0.00      0.00      0.00         0\n",
      "     16294.0       0.00      0.00      0.00         1\n",
      "     16324.0       0.00      0.00      0.00         0\n",
      "     16540.0       0.00      0.00      0.00         1\n",
      "     16546.0       0.00      0.00      0.00         1\n",
      "     16636.0       0.00      0.00      0.00         1\n",
      "     16674.0       0.00      0.00      0.00         0\n",
      "     16699.0       0.00      0.00      0.00         1\n",
      "     16706.0       0.00      0.00      0.00         1\n",
      "     16715.0       0.00      0.00      0.00         1\n",
      "     16732.0       0.00      0.00      0.00         1\n",
      "     16820.0       0.00      0.00      0.00         1\n",
      "     16829.0       0.00      0.00      0.00         1\n",
      "     16831.0       0.00      0.00      0.00         1\n",
      "     16972.0       0.00      0.00      0.00         1\n",
      "     17093.0       0.00      0.00      0.00         0\n",
      "     17125.0       0.00      0.00      0.00         1\n",
      "     17163.0       0.00      0.00      0.00         1\n",
      "     17210.0       0.00      0.00      0.00         1\n",
      "     17589.0       0.00      0.00      0.00         1\n",
      "     17803.0       0.00      0.00      0.00         0\n",
      "     18023.0       0.00      0.00      0.00         1\n",
      "     18527.0       0.00      0.00      0.00         0\n",
      "     18675.0       0.00      0.00      0.00         1\n",
      "     18723.0       0.00      0.00      0.00         1\n",
      "     18851.0       0.00      0.00      0.00         1\n",
      "     19065.0       0.00      0.00      0.00         1\n",
      "     19181.0       0.00      0.00      0.00         1\n",
      "     19225.0       0.00      0.00      0.00         1\n",
      "     19309.0       0.00      0.00      0.00         1\n",
      "     19311.0       0.00      0.00      0.00         1\n",
      "     19331.0       0.00      0.00      0.00         1\n",
      "     19345.0       0.00      0.00      0.00         0\n",
      "     19423.0       0.00      0.00      0.00         1\n",
      "     19628.0       0.00      0.00      0.00         1\n",
      "     19698.0       0.00      0.00      0.00         0\n",
      "     19792.0       0.00      0.00      0.00         1\n",
      "     19802.0       0.00      0.00      0.00         1\n",
      "     19927.0       0.00      0.00      0.00         1\n",
      "     19952.0       0.00      0.00      0.00         1\n",
      "     19963.0       0.00      0.00      0.00         1\n",
      "     20033.0       0.00      0.00      0.00         1\n",
      "     20156.0       0.00      0.00      0.00         1\n",
      "     20340.0       0.00      0.00      0.00         1\n",
      "     20361.0       0.00      0.00      0.00         1\n",
      "     20444.0       0.00      0.00      0.00         0\n",
      "     20572.0       0.00      0.00      0.00         1\n",
      "     20831.0       0.00      0.00      0.00         1\n",
      "     20879.0       0.00      0.00      0.00         1\n",
      "     21081.0       0.00      0.00      0.00         1\n",
      "     21184.0       0.00      0.00      0.00         1\n",
      "     21301.0       0.00      0.00      0.00         1\n",
      "     21352.0       0.00      0.00      0.00         0\n",
      "     21365.0       0.00      0.00      0.00         1\n",
      "     21517.0       0.00      0.00      0.00         0\n",
      "     21587.0       0.00      0.00      0.00         1\n",
      "     21635.0       0.00      0.00      0.00         1\n",
      "     21637.0       0.00      0.00      0.00         0\n",
      "     21772.0       0.00      0.00      0.00         1\n",
      "     21786.0       0.00      0.00      0.00         1\n",
      "     21792.0       0.00      0.00      0.00         1\n",
      "     22197.0       0.00      0.00      0.00         1\n",
      "     22354.0       0.00      0.00      0.00         1\n",
      "     22410.0       0.00      0.00      0.00         1\n",
      "     22761.0       0.00      0.00      0.00         1\n",
      "     22825.0       0.00      0.00      0.00         1\n",
      "     23016.0       0.00      0.00      0.00         1\n",
      "     23125.0       0.00      0.00      0.00         1\n",
      "     23146.0       0.00      0.00      0.00         1\n",
      "     23166.0       0.00      0.00      0.00         1\n",
      "     23203.0       0.00      0.00      0.00         1\n",
      "     23427.0       0.00      0.00      0.00         1\n",
      "     23850.0       0.00      0.00      0.00         1\n",
      "     23935.0       0.00      0.00      0.00         1\n",
      "     23936.0       0.00      0.00      0.00         1\n",
      "     24282.0       0.00      0.00      0.00         1\n",
      "     24302.0       0.00      0.00      0.00         0\n",
      "     24327.0       0.00      0.00      0.00         1\n",
      "     24689.0       0.00      0.00      0.00         0\n",
      "     25004.0       0.00      0.00      0.00         0\n",
      "     25823.0       0.00      0.00      0.00         1\n",
      "     25834.0       0.00      0.00      0.00         1\n",
      "     25840.0       0.00      0.00      0.00         0\n",
      "     25844.0       0.00      0.00      0.00         1\n",
      "     25869.0       0.00      0.00      0.00         1\n",
      "     25937.0       0.00      0.00      0.00         1\n",
      "     26053.0       0.00      0.00      0.00         1\n",
      "     26057.0       0.00      0.00      0.00         1\n",
      "     26100.0       0.00      0.00      0.00         1\n",
      "     26249.0       0.00      0.00      0.00         1\n",
      "     26261.0       0.00      0.00      0.00         1\n",
      "     26302.0       0.00      0.00      0.00         1\n",
      "     26328.0       0.00      0.00      0.00         1\n",
      "     26342.0       0.00      0.00      0.00         1\n",
      "     26454.0       0.00      0.00      0.00         1\n",
      "     26570.0       0.00      0.00      0.00         1\n",
      "     26579.0       0.00      0.00      0.00         1\n",
      "     26581.0       0.00      0.00      0.00         1\n",
      "     26601.0       0.00      0.00      0.00         1\n",
      "     26606.0       0.00      0.00      0.00         1\n",
      "     26635.0       0.00      0.00      0.00         1\n",
      "     26819.0       0.00      0.00      0.00         1\n",
      "     27072.0       0.00      0.00      0.00         1\n",
      "     27122.0       0.00      0.00      0.00         1\n",
      "     27161.0       0.00      0.00      0.00         1\n",
      "     27391.0       0.00      0.00      0.00         0\n",
      "     27462.0       0.00      0.00      0.00         1\n",
      "     27581.0       0.00      0.00      0.00         1\n",
      "     27634.0       0.00      0.00      0.00         1\n",
      "     27790.0       0.00      0.00      0.00         1\n",
      "     27961.0       0.00      0.00      0.00         1\n",
      "     28029.0       0.00      0.00      0.00         1\n",
      "     28403.0       1.00      1.00      1.00         1\n",
      "     28509.0       0.00      0.00      0.00         0\n",
      "     28669.0       0.00      0.00      0.00         1\n",
      "     28683.0       0.00      0.00      0.00         0\n",
      "     28813.0       0.00      0.00      0.00         1\n",
      "     28868.0       0.00      0.00      0.00         1\n",
      "     28949.0       0.00      0.00      0.00         0\n",
      "     29023.0       0.00      0.00      0.00         1\n",
      "     29027.0       0.00      0.00      0.00         1\n",
      "     29068.0       0.00      0.00      0.00         1\n",
      "     29083.0       0.00      0.00      0.00         1\n",
      "     29178.0       0.00      0.00      0.00         0\n",
      "     29189.0       0.00      0.00      0.00         1\n",
      "     29203.0       0.00      0.00      0.00         1\n",
      "     29204.0       0.00      0.00      0.00         1\n",
      "     29228.0       0.00      0.00      0.00         1\n",
      "     29300.0       0.00      0.00      0.00         1\n",
      "     29428.0       0.00      0.00      0.00         1\n",
      "     29434.0       0.00      0.00      0.00         1\n",
      "     29449.0       0.00      0.00      0.00         1\n",
      "     29798.0       0.00      0.00      0.00         0\n",
      "     29849.0       0.00      0.00      0.00         1\n",
      "     29913.0       0.00      0.00      0.00         1\n",
      "     30080.0       0.00      0.00      0.00         1\n",
      "     30235.0       0.00      0.00      0.00         1\n",
      "     30382.0       0.00      0.00      0.00         1\n",
      "     30387.0       0.00      0.00      0.00         0\n",
      "     30404.0       0.00      0.00      0.00         1\n",
      "     30445.0       0.00      0.00      0.00         1\n",
      "     30472.0       0.00      0.00      0.00         0\n",
      "     30689.0       0.00      0.00      0.00         1\n",
      "     30768.0       0.00      0.00      0.00         1\n",
      "     31128.0       0.00      0.00      0.00         0\n",
      "     31466.0       0.00      0.00      0.00         1\n",
      "     31518.0       0.00      0.00      0.00         0\n",
      "     31785.0       0.00      0.00      0.00         0\n",
      "     31840.0       0.00      0.00      0.00         1\n",
      "     32022.0       0.00      0.00      0.00         0\n",
      "     32496.0       0.00      0.00      0.00         1\n",
      "     32866.0       0.00      0.00      0.00         1\n",
      "     33374.0       0.00      0.00      0.00         1\n",
      "     33382.0       0.00      0.00      0.00         1\n",
      "     33515.0       0.00      0.00      0.00         1\n",
      "     33687.0       0.00      0.00      0.00         0\n",
      "     33824.0       0.00      0.00      0.00         1\n",
      "     33867.0       0.00      0.00      0.00         1\n",
      "     33917.0       0.00      0.00      0.00         1\n",
      "     34076.0       0.00      0.00      0.00         0\n",
      "     34082.0       0.00      0.00      0.00         1\n",
      "     34227.0       0.00      0.00      0.00         1\n",
      "     34475.0       0.00      0.00      0.00         1\n",
      "     34477.0       0.00      0.00      0.00         1\n",
      "     34496.0       0.00      0.00      0.00         1\n",
      "     34665.0       0.00      0.00      0.00         0\n",
      "     34931.0       0.00      0.00      0.00         1\n",
      "     35065.0       0.00      0.00      0.00         1\n",
      "     35075.0       0.00      0.00      0.00         1\n",
      "     35391.0       0.00      0.00      0.00         1\n",
      "     35485.0       0.00      0.00      0.00         1\n",
      "     35662.0       0.00      0.00      0.00         1\n",
      "     35839.0       0.00      0.00      0.00         1\n",
      "     36019.0       0.00      0.00      0.00         1\n",
      "     36613.0       0.00      0.00      0.00         0\n",
      "     36686.0       0.00      0.00      0.00         1\n",
      "     36687.0       0.00      0.00      0.00         0\n",
      "     36700.0       0.00      0.00      0.00         1\n",
      "     37017.0       0.00      0.00      0.00         1\n",
      "     37224.0       0.00      0.00      0.00         1\n",
      "     37293.0       0.00      0.00      0.00         1\n",
      "     37298.0       0.00      0.00      0.00         1\n",
      "     37555.0       0.00      0.00      0.00         1\n",
      "     37689.0       0.00      0.00      0.00         1\n",
      "     37874.0       0.00      0.00      0.00         1\n",
      "     37917.0       0.00      0.00      0.00         0\n",
      "     38170.0       0.00      0.00      0.00         1\n",
      "     38297.0       0.00      0.00      0.00         1\n",
      "     38339.0       0.00      0.00      0.00         1\n",
      "     38378.0       0.00      0.00      0.00         1\n",
      "     38498.0       0.00      0.00      0.00         1\n",
      "     38514.0       0.00      0.00      0.00         1\n",
      "     38688.0       0.00      0.00      0.00         1\n",
      "     38709.0       0.00      0.00      0.00         1\n",
      "     39249.0       0.00      0.00      0.00         0\n",
      "     39256.0       0.00      0.00      0.00         0\n",
      "     39285.0       0.00      0.00      0.00         1\n",
      "     39395.0       0.00      0.00      0.00         0\n",
      "     39416.0       0.00      0.00      0.00         1\n",
      "     39452.0       0.00      0.00      0.00         0\n",
      "     39556.0       0.00      0.00      0.00         0\n",
      "     39709.0       0.00      0.00      0.00         1\n",
      "     40156.0       0.00      0.00      0.00         0\n",
      "     40382.0       0.00      0.00      0.00         0\n",
      "     40529.0       0.00      0.00      0.00         1\n",
      "     40715.0       0.00      0.00      0.00         1\n",
      "     40717.0       0.00      0.00      0.00         0\n",
      "     40914.0       0.00      0.00      0.00         1\n",
      "     41022.0       0.00      0.00      0.00         1\n",
      "     41292.0       0.00      0.00      0.00         1\n",
      "     41546.0       0.00      0.00      0.00         1\n",
      "     41767.0       0.00      0.00      0.00         1\n",
      "     41832.0       0.00      0.00      0.00         1\n",
      "     41929.0       0.00      0.00      0.00         0\n",
      "     42138.0       0.00      0.00      0.00         1\n",
      "     42205.0       0.00      0.00      0.00         1\n",
      "     42272.0       0.00      0.00      0.00         1\n",
      "     42510.0       0.00      0.00      0.00         1\n",
      "     42659.0       0.00      0.00      0.00         1\n",
      "     42897.0       0.00      0.00      0.00         1\n",
      "     43097.0       0.00      0.00      0.00         0\n",
      "     43289.0       0.00      0.00      0.00         1\n",
      "     43425.0       0.00      0.00      0.00         1\n",
      "     43551.0       0.00      0.00      0.00         1\n",
      "     43791.0       0.00      0.00      0.00         0\n",
      "     43792.0       0.00      0.00      0.00         1\n",
      "     43901.0       0.00      0.00      0.00         1\n",
      "     43927.0       0.00      0.00      0.00         1\n",
      "     44038.0       0.00      0.00      0.00         1\n",
      "     44175.0       0.00      0.00      0.00         1\n",
      "     44331.0       0.00      0.00      0.00         0\n",
      "     44339.0       0.00      0.00      0.00         1\n",
      "     44388.0       0.00      0.00      0.00         1\n",
      "     44420.0       0.00      0.00      0.00         1\n",
      "     44548.0       0.00      0.00      0.00         1\n",
      "     44614.0       0.00      0.00      0.00         0\n",
      "     44723.0       0.00      0.00      0.00         1\n",
      "     44836.0       0.00      0.00      0.00         0\n",
      "     44869.0       0.00      0.00      0.00         1\n",
      "     44943.0       0.00      0.00      0.00         1\n",
      "     45161.0       0.00      0.00      0.00         1\n",
      "     45164.0       0.00      0.00      0.00         0\n",
      "     45525.0       0.00      0.00      0.00         0\n",
      "     45996.0       0.00      0.00      0.00         1\n",
      "     46284.0       0.00      0.00      0.00         0\n",
      "     46345.0       0.00      0.00      0.00         1\n",
      "     46348.0       0.00      0.00      0.00         1\n",
      "     46430.0       0.00      0.00      0.00         1\n",
      "     46629.0       0.00      0.00      0.00         0\n",
      "     46831.0       0.00      0.00      0.00         0\n",
      "     46859.0       0.00      0.00      0.00         1\n",
      "     46928.0       0.00      0.00      0.00         0\n",
      "     46962.0       0.00      0.00      0.00         0\n",
      "     46991.0       0.00      0.00      0.00         1\n",
      "     46992.0       0.00      0.00      0.00         1\n",
      "     47077.0       0.00      0.00      0.00         1\n",
      "     47127.0       0.00      0.00      0.00         0\n",
      "     47130.0       0.00      0.00      0.00         0\n",
      "     47137.0       0.00      0.00      0.00         1\n",
      "     47238.0       0.00      0.00      0.00         1\n",
      "     47311.0       0.00      0.00      0.00         0\n",
      "     47449.0       0.00      0.00      0.00         0\n",
      "     47628.0       0.00      0.00      0.00         1\n",
      "     47714.0       0.00      0.00      0.00         0\n",
      "     47738.0       0.00      0.00      0.00         1\n",
      "     47758.0       0.00      0.00      0.00         1\n",
      "     48200.0       0.00      0.00      0.00         1\n",
      "     48277.0       0.00      0.00      0.00         1\n",
      "     48306.0       0.00      0.00      0.00         1\n",
      "     48643.0       0.00      0.00      0.00         1\n",
      "     48819.0       0.00      0.00      0.00         0\n",
      "     48963.0       0.00      0.00      0.00         1\n",
      "     48994.0       0.00      0.00      0.00         1\n",
      "     49254.0       0.00      0.00      0.00         0\n",
      "     49274.0       0.00      0.00      0.00         1\n",
      "     49314.0       0.00      0.00      0.00         1\n",
      "     49384.0       0.00      0.00      0.00         0\n",
      "     49405.0       0.00      0.00      0.00         1\n",
      "     49539.0       0.00      0.00      0.00         0\n",
      "     49595.0       0.00      0.00      0.00         1\n",
      "     49697.0       0.00      0.00      0.00         1\n",
      "     49704.0       0.00      0.00      0.00         1\n",
      "     49716.0       0.00      0.00      0.00         1\n",
      "     49941.0       0.00      0.00      0.00         0\n",
      "     50088.0       0.00      0.00      0.00         0\n",
      "     50473.0       0.00      0.00      0.00         0\n",
      "     50595.0       0.00      0.00      0.00         0\n",
      "     50678.0       0.00      0.00      0.00         1\n",
      "     50740.0       0.00      0.00      0.00         1\n",
      "     51143.0       0.00      0.00      0.00         1\n",
      "     51571.0       0.00      0.00      0.00         1\n",
      "     51729.0       0.00      0.00      0.00         1\n",
      "     51768.0       0.00      0.00      0.00         1\n",
      "     51782.0       0.00      0.00      0.00         0\n",
      "     51858.0       0.00      0.00      0.00         0\n",
      "     52134.0       0.00      0.00      0.00         0\n",
      "     53560.0       0.00      0.00      0.00         1\n",
      "     53631.0       0.00      0.00      0.00         1\n",
      "     53741.0       0.00      0.00      0.00         0\n",
      "     53783.0       0.00      0.00      0.00         1\n",
      "     53820.0       0.00      0.00      0.00         0\n",
      "     54020.0       0.00      0.00      0.00         0\n",
      "     54158.0       0.00      0.00      0.00         1\n",
      "     54452.0       0.00      0.00      0.00         1\n",
      "     54841.0       0.00      0.00      0.00         1\n",
      "     54942.0       0.00      0.00      0.00         0\n",
      "     55036.0       0.00      0.00      0.00         0\n",
      "     56405.0       0.00      0.00      0.00         1\n",
      "     56496.0       0.00      0.00      0.00         0\n",
      "     56603.0       0.00      0.00      0.00         1\n",
      "     56695.0       0.00      0.00      0.00         1\n",
      "     57059.0       0.00      0.00      0.00         1\n",
      "     57337.0       0.00      0.00      0.00         0\n",
      "     57720.0       0.00      0.00      0.00         0\n",
      "     57794.0       0.00      0.00      0.00         0\n",
      "     57807.0       0.00      0.00      0.00         0\n",
      "     58093.0       0.00      0.00      0.00         1\n",
      "     58714.0       0.00      0.00      0.00         1\n",
      "     58771.0       0.00      0.00      0.00         1\n",
      "     58840.0       0.00      0.00      0.00         1\n",
      "     59113.0       0.00      0.00      0.00         1\n",
      "     59978.0       0.00      0.00      0.00         1\n",
      "     60367.0       0.00      0.00      0.00         0\n",
      "     60582.0       0.00      0.00      0.00         0\n",
      "     60690.0       0.00      0.00      0.00         1\n",
      "     61169.0       0.00      0.00      0.00         1\n",
      "     61309.0       0.00      0.00      0.00         1\n",
      "     61379.0       0.00      0.00      0.00         1\n",
      "     61840.0       0.00      0.00      0.00         1\n",
      "     62050.0       0.00      0.00      0.00         1\n",
      "     62210.0       0.00      0.00      0.00         1\n",
      "     62397.0       0.00      0.00      0.00         0\n",
      "     62467.0       0.00      0.00      0.00         0\n",
      "     62980.0       0.00      0.00      0.00         0\n",
      "     63067.0       0.00      0.00      0.00         1\n",
      "     63221.0       0.00      0.00      0.00         1\n",
      "     63273.0       0.00      0.00      0.00         0\n",
      "     63540.0       0.00      0.00      0.00         1\n",
      "     63785.0       0.00      0.00      0.00         1\n",
      "     63792.0       0.00      0.00      0.00         0\n",
      "     64278.0       0.00      0.00      0.00         0\n",
      "     64398.0       0.00      0.00      0.00         1\n",
      "     65503.0       0.00      0.00      0.00         1\n",
      "     66855.0       0.00      0.00      0.00         1\n",
      "     66904.0       0.00      0.00      0.00         0\n",
      "     67594.0       0.00      0.00      0.00         0\n",
      "     68172.0       0.00      0.00      0.00         1\n",
      "     72099.0       0.00      0.00      0.00         0\n",
      "\n",
      "    accuracy                           0.00       530\n",
      "   macro avg       0.00      0.00      0.00       530\n",
      "weighted avg       0.00      0.00      0.00       530\n",
      "\n"
     ]
    },
    {
     "name": "stderr",
     "output_type": "stream",
     "text": [
      "c:\\Users\\user1\\Desktop\\תמי\\תכנות\\python\\crypto\\lib\\site-packages\\sklearn\\linear_model\\_logistic.py:469: ConvergenceWarning: lbfgs failed to converge (status=1):\n",
      "STOP: TOTAL NO. of ITERATIONS REACHED LIMIT.\n",
      "\n",
      "Increase the number of iterations (max_iter) or scale the data as shown in:\n",
      "    https://scikit-learn.org/stable/modules/preprocessing.html\n",
      "Please also refer to the documentation for alternative solver options:\n",
      "    https://scikit-learn.org/stable/modules/linear_model.html#logistic-regression\n",
      "  n_iter_i = _check_optimize_result(\n",
      "c:\\Users\\user1\\Desktop\\תמי\\תכנות\\python\\crypto\\lib\\site-packages\\sklearn\\metrics\\_classification.py:1531: UndefinedMetricWarning: Precision is ill-defined and being set to 0.0 in labels with no predicted samples. Use `zero_division` parameter to control this behavior.\n",
      "  _warn_prf(average, modifier, f\"{metric.capitalize()} is\", len(result))\n",
      "c:\\Users\\user1\\Desktop\\תמי\\תכנות\\python\\crypto\\lib\\site-packages\\sklearn\\metrics\\_classification.py:1531: UndefinedMetricWarning: Recall is ill-defined and being set to 0.0 in labels with no true samples. Use `zero_division` parameter to control this behavior.\n",
      "  _warn_prf(average, modifier, f\"{metric.capitalize()} is\", len(result))\n",
      "c:\\Users\\user1\\Desktop\\תמי\\תכנות\\python\\crypto\\lib\\site-packages\\sklearn\\metrics\\_classification.py:1531: UndefinedMetricWarning: Precision is ill-defined and being set to 0.0 in labels with no predicted samples. Use `zero_division` parameter to control this behavior.\n",
      "  _warn_prf(average, modifier, f\"{metric.capitalize()} is\", len(result))\n",
      "c:\\Users\\user1\\Desktop\\תמי\\תכנות\\python\\crypto\\lib\\site-packages\\sklearn\\metrics\\_classification.py:1531: UndefinedMetricWarning: Recall is ill-defined and being set to 0.0 in labels with no true samples. Use `zero_division` parameter to control this behavior.\n",
      "  _warn_prf(average, modifier, f\"{metric.capitalize()} is\", len(result))\n",
      "c:\\Users\\user1\\Desktop\\תמי\\תכנות\\python\\crypto\\lib\\site-packages\\sklearn\\metrics\\_classification.py:1531: UndefinedMetricWarning: Precision is ill-defined and being set to 0.0 in labels with no predicted samples. Use `zero_division` parameter to control this behavior.\n",
      "  _warn_prf(average, modifier, f\"{metric.capitalize()} is\", len(result))\n",
      "c:\\Users\\user1\\Desktop\\תמי\\תכנות\\python\\crypto\\lib\\site-packages\\sklearn\\metrics\\_classification.py:1531: UndefinedMetricWarning: Recall is ill-defined and being set to 0.0 in labels with no true samples. Use `zero_division` parameter to control this behavior.\n",
      "  _warn_prf(average, modifier, f\"{metric.capitalize()} is\", len(result))\n"
     ]
    }
   ],
   "source": [
    "\n",
    "\n",
    "# Load dataset\n",
    "data = df_final  # Replace with your dataset path\n",
    "\n",
    "# Prepare features and target\n",
    "X = data.drop(['TV','TV2'], axis=1)  # Replace 'target_column' with your target column name\n",
    "y = data['TV2']  # Replace with your target column name\n",
    "\n",
    "# Split the dataset\n",
    "X_train, X_test, y_train, y_test = train_test_split(X, y, test_size=0.2, random_state=42)\n",
    "\n",
    "# Create and train the model\n",
    "model = LogisticRegression()\n",
    "model.fit(X_train, y_train)\n",
    "\n",
    "# Make predictions\n",
    "y_pred = model.predict(X_test)\n",
    "\n",
    "# Evaluate the model\n",
    "accuracy = accuracy_score(y_test, y_pred)\n",
    "confusion = confusion_matrix(y_test, y_pred)\n",
    "report = classification_report(y_test, y_pred)\n",
    "print(f'Accuracy: {accuracy}')\n",
    "print('Confusion Matrix:')\n",
    "print(confusion)\n",
    "print('Classification Report:')\n",
    "print(report)"
   ]
  },
  {
   "cell_type": "code",
   "execution_count": 69,
   "metadata": {},
   "outputs": [
    {
     "name": "stdout",
     "output_type": "stream",
     "text": [
      "Mean Squared Error: 1249049.61601566\n",
      "R-squared: 0.9957474010380721\n"
     ]
    }
   ],
   "source": [
    "# Assuming your data is in a CSV file named 'your_data.csv'\n",
    "data = df_final\n",
    "X = data.drop(['TV', 'TV2'], axis=1)  # Drop unnecessary columns\n",
    "y = data['TV2']\n",
    "X_train, X_test, y_train, y_test = train_test_split(X, y, test_size=0.2, random_state=42)\n",
    "model = RandomForestRegressor(n_estimators=100, random_state=42)\n",
    "model.fit(X_train, y_train)\n",
    "y_pred = model.predict(X_test)\n",
    "\n",
    "mse = mean_squared_error(y_test, y_pred)\n",
    "r2 = r2_score(y_test, y_pred)\n",
    "\n",
    "print(\"Mean Squared Error:\", mse)\n",
    "print(\"R-squared:\", r2)"
   ]
  },
  {
   "cell_type": "code",
   "execution_count": 70,
   "metadata": {},
   "outputs": [
    {
     "name": "stdout",
     "output_type": "stream",
     "text": [
      "השורש הריבועי של 1249049.61601566 הוא 1117.6088832931046\n"
     ]
    }
   ],
   "source": [
    "import math\n",
    "sqrt_number = math.sqrt(1249049.61601566)\n",
    "print(f\"השורש הריבועי של {1249049.61601566} הוא {sqrt_number}\")"
   ]
  },
  {
   "cell_type": "code",
   "execution_count": 71,
   "metadata": {},
   "outputs": [
    {
     "name": "stdout",
     "output_type": "stream",
     "text": [
      "Original dataset shape: TV\n",
      "0    1480\n",
      "1     636\n",
      "Name: count, dtype: int64\n",
      "Balanced dataset shape: TV\n",
      "0    1480\n",
      "1    1480\n",
      "Name: count, dtype: int64\n"
     ]
    }
   ],
   "source": [
    "# קרא את הנתונים שלך (הנחת קובץ CSV לדוגמה)\n",
    "data = df_final\n",
    "\n",
    "# הנחה שעמודת ה-TARGET שלך נקראת 'target'\n",
    "X = data.drop('TV', axis=1)\n",
    "y = data['TV']\n",
    "\n",
    "# חלוקת הנתונים לסט אימון וסט בדיקה (לא חובה, אבל מומלץ)\n",
    "X_train, X_test, y_train, y_test = train_test_split(X, y, test_size=0.2, random_state=42)\n",
    "\n",
    "# יישום SMOTE כדי לאזן את סט האימון\n",
    "smote = SMOTE(random_state=42)\n",
    "X_train_balanced, y_train_balanced = smote.fit_resample(X_train, y_train)\n",
    "\n",
    "print(\"Original dataset shape:\", y_train.value_counts())\n",
    "print(\"Balanced dataset shape:\", y_train_balanced.value_counts())\n",
    "\n",
    "# עכשיו הנתונים שלך מאוזנים וניתן להשתמש בהם להכשרת המודל שלך\n"
   ]
  },
  {
   "cell_type": "code",
   "execution_count": 72,
   "metadata": {},
   "outputs": [
    {
     "name": "stdout",
     "output_type": "stream",
     "text": [
      "Balanced dataset saved to 'balanced_dataset.csv'\n",
      "Complete dataset (balanced train + original test) saved to 'complete_balanced_dataset.csv'\n"
     ]
    }
   ],
   "source": [
    "# יצירת DataFrame חדש עבור הנתונים המאוזנים\n",
    "balanced_data = pd.DataFrame(X_train_balanced, columns=X_train.columns)\n",
    "balanced_data['TV'] = y_train_balanced\n",
    "\n",
    "# שמירת הנתונים המאוזנים לקובץ חדש (CSV לדוגמה)\n",
    "balanced_data.to_csv('balanced_dataset.csv', index=False)\n",
    "\n",
    "# במידה ורוצים לאחד עם סט הבדיקה לדטהסט חדש\n",
    "balanced_dataset = pd.concat([balanced_data, pd.concat([X_test, y_test], axis=1)], ignore_index=True)\n",
    "balanced_dataset.to_csv('complete_balanced_dataset.csv', index=False)\n",
    "\n",
    "print(\"Balanced dataset saved to 'balanced_dataset.csv'\")\n",
    "print(\"Complete dataset (balanced train + original test) saved to 'complete_balanced_dataset.csv'\")\n"
   ]
  },
  {
   "cell_type": "code",
   "execution_count": 73,
   "metadata": {},
   "outputs": [
    {
     "name": "stdout",
     "output_type": "stream",
     "text": [
      "Accuracy: 0.5616045845272206\n",
      "Confusion Matrix:\n",
      "[[288  93]\n",
      " [213 104]]\n",
      "Classification Report:\n",
      "              precision    recall  f1-score   support\n",
      "\n",
      "           0       0.57      0.76      0.65       381\n",
      "           1       0.53      0.33      0.40       317\n",
      "\n",
      "    accuracy                           0.56       698\n",
      "   macro avg       0.55      0.54      0.53       698\n",
      "weighted avg       0.55      0.56      0.54       698\n",
      "\n"
     ]
    },
    {
     "name": "stderr",
     "output_type": "stream",
     "text": [
      "c:\\Users\\user1\\Desktop\\תמי\\תכנות\\python\\crypto\\lib\\site-packages\\sklearn\\linear_model\\_logistic.py:469: ConvergenceWarning: lbfgs failed to converge (status=1):\n",
      "STOP: TOTAL NO. of ITERATIONS REACHED LIMIT.\n",
      "\n",
      "Increase the number of iterations (max_iter) or scale the data as shown in:\n",
      "    https://scikit-learn.org/stable/modules/preprocessing.html\n",
      "Please also refer to the documentation for alternative solver options:\n",
      "    https://scikit-learn.org/stable/modules/linear_model.html#logistic-regression\n",
      "  n_iter_i = _check_optimize_result(\n"
     ]
    }
   ],
   "source": [
    "data = balanced_dataset  # Replace with your dataset path\n",
    "\n",
    "X = data.drop('TV', axis=1)  # Replace 'target_column' with your target column name\n",
    "y = data['TV']  # Replace with your target column name\n",
    "\n",
    "# Split the dataset\n",
    "X_train, X_test, y_train, y_test = train_test_split(X, y, test_size=0.2, random_state=42)\n",
    "\n",
    "# Create and train the model\n",
    "model = LogisticRegression()\n",
    "model.fit(X_train, y_train)\n",
    "\n",
    "# Make predictions\n",
    "y_pred = model.predict(X_test)\n",
    "\n",
    "# Evaluate the model\n",
    "accuracy = accuracy_score(y_test, y_pred)\n",
    "confusion = confusion_matrix(y_test, y_pred)\n",
    "report = classification_report(y_test, y_pred)\n",
    "print(f'Accuracy: {accuracy}')\n",
    "print('Confusion Matrix:')\n",
    "print(confusion)\n",
    "print('Classification Report:')\n",
    "print(report)"
   ]
  },
  {
   "cell_type": "code",
   "execution_count": 74,
   "metadata": {},
   "outputs": [
    {
     "name": "stdout",
     "output_type": "stream",
     "text": [
      "Mean Squared Error: 0.18766246418338112\n",
      "R-squared: 0.24298580690032034\n"
     ]
    }
   ],
   "source": [
    "# Assuming your data is in a CSV file named 'your_data.csv'\n",
    "data = balanced_dataset\n",
    "X = data.drop('TV', axis=1)\n",
    "y = data['TV']\n",
    "X_train, X_test, y_train, y_test = train_test_split(X, y, test_size=0.2, random_state=42)\n",
    "model = RandomForestRegressor(n_estimators=100, random_state=42)\n",
    "model.fit(X_train, y_train)\n",
    "y_pred = model.predict(X_test)\n",
    "\n",
    "mse = mean_squared_error(y_test, y_pred)\n",
    "r2 = r2_score(y_test, y_pred)\n",
    "\n",
    "print(\"Mean Squared Error:\", mse)\n",
    "print(\"R-squared:\", r2)"
   ]
  },
  {
   "cell_type": "code",
   "execution_count": 75,
   "metadata": {},
   "outputs": [
    {
     "name": "stdout",
     "output_type": "stream",
     "text": [
      "Correlation: 0.9984788890684465\n"
     ]
    }
   ],
   "source": [
    "#Calculate correlation\n",
    "correlation = df_final['Price'].corr(df_final['TV2'])\n",
    "print(\"Correlation:\", correlation)"
   ]
  },
  {
   "cell_type": "code",
   "execution_count": 76,
   "metadata": {},
   "outputs": [
    {
     "name": "stdout",
     "output_type": "stream",
     "text": [
      "Correlation: -0.314951090707138\n"
     ]
    }
   ],
   "source": [
    "correlation = df_final['Vol.'].corr(df_final['TV2'])\n",
    "print(\"Correlation:\", correlation)"
   ]
  },
  {
   "cell_type": "code",
   "execution_count": 77,
   "metadata": {},
   "outputs": [
    {
     "name": "stdout",
     "output_type": "stream",
     "text": [
      "Correlation: 0.8924460593754456\n"
     ]
    }
   ],
   "source": [
    "correlation = df_final['SN&P Adjusted'].corr(df_final['TV2'])\n",
    "print(\"Correlation:\", correlation)"
   ]
  },
  {
   "cell_type": "code",
   "execution_count": 78,
   "metadata": {},
   "outputs": [
    {
     "name": "stdout",
     "output_type": "stream",
     "text": [
      "Correlation: 0.18552178123919885\n"
     ]
    }
   ],
   "source": [
    "correlation = df_final['DXY Adjusted'].corr(df_final['TV2'])\n",
    "print(\"Correlation:\", correlation)"
   ]
  },
  {
   "cell_type": "code",
   "execution_count": 79,
   "metadata": {},
   "outputs": [
    {
     "name": "stdout",
     "output_type": "stream",
     "text": [
      "Correlation: 0.7440600332722328\n"
     ]
    }
   ],
   "source": [
    "correlation = df_final['GOLD Adjusted'].corr(df_final['TV2'])\n",
    "print(\"Correlation:\", correlation)"
   ]
  },
  {
   "cell_type": "code",
   "execution_count": 80,
   "metadata": {},
   "outputs": [
    {
     "name": "stdout",
     "output_type": "stream",
     "text": [
      "Correlation: 0.9352203451454735\n"
     ]
    }
   ],
   "source": [
    "correlation = df_final['ETH Price'].corr(df_final['TV2'])\n",
    "print(\"Correlation:\", correlation)"
   ]
  },
  {
   "cell_type": "code",
   "execution_count": 81,
   "metadata": {},
   "outputs": [
    {
     "name": "stdout",
     "output_type": "stream",
     "text": [
      "Correlation: 0.25519200393602726\n"
     ]
    }
   ],
   "source": [
    "correlation = df_final['ETH Vol.'].corr(df_final['TV2'])\n",
    "print(\"Correlation:\", correlation)"
   ]
  },
  {
   "cell_type": "code",
   "execution_count": 82,
   "metadata": {},
   "outputs": [
    {
     "name": "stdout",
     "output_type": "stream",
     "text": [
      "Correlation: 0.5265889545612743\n"
     ]
    }
   ],
   "source": [
    "correlation = df_final['OIL Price Adjusted'].corr(df_final['TV2'])\n",
    "print(\"Correlation:\", correlation)"
   ]
  },
  {
   "cell_type": "code",
   "execution_count": 83,
   "metadata": {},
   "outputs": [
    {
     "name": "stdout",
     "output_type": "stream",
     "text": [
      "Correlation: 0.07618624628866964\n"
     ]
    }
   ],
   "source": [
    "correlation = df_final['Days from the last halving'].corr(df_final['TV2'])\n",
    "print(\"Correlation:\", correlation)"
   ]
  },
  {
   "cell_type": "code",
   "execution_count": 84,
   "metadata": {},
   "outputs": [],
   "source": [
    "# 3 data frame without fetures with weakest correlation\n",
    "df_final_1=data.loc[:,[\"Price\",\"Vol.\",\"SN&P Adjusted\",\"DXY Adjusted\",\"GOLD Adjusted\",\"ETH Price\",\"ETH Vol.\",\"OIL Price Adjusted\"]]\n",
    "df_final_2=data.loc[:,[\"Price\",\"Vol.\",\"SN&P Adjusted\",\"DXY Adjusted\",\"GOLD Adjusted\",\"ETH Price\",\"OIL Price Adjusted\", \"Days from the last halving\"]]\n",
    "df_final_3=data.loc[:,[\"Price\",\"Vol.\",\"SN&P Adjusted\",\"GOLD Adjusted\",\"ETH Price\",\"ETH Vol.\",\"OIL Price Adjusted\", \"Days from the last halving\"]]"
   ]
  },
  {
   "cell_type": "code",
   "execution_count": 85,
   "metadata": {},
   "outputs": [],
   "source": [
    "df_final_1[\"TV2\"]=df_final[\"Price\"].shift(-1)"
   ]
  },
  {
   "cell_type": "code",
   "execution_count": 86,
   "metadata": {},
   "outputs": [],
   "source": [
    "df_final_1=df_final.dropna()"
   ]
  },
  {
   "cell_type": "code",
   "execution_count": 87,
   "metadata": {},
   "outputs": [
    {
     "name": "stdout",
     "output_type": "stream",
     "text": [
      "Mean Squared Error: 1249049.61601566\n",
      "R-squared: 0.9957474010380721\n"
     ]
    }
   ],
   "source": [
    "# data frame one without \"Days_from_the_last_halving\"\n",
    "data_1 = df_final_1\n",
    "X = data_1.drop(['TV', 'TV2'], axis=1)  # Drop unnecessary columns\n",
    "y = data_1['TV2']\n",
    "X_train, X_test, y_train, y_test = train_test_split(X, y, test_size=0.2, random_state=42)\n",
    "model = RandomForestRegressor(n_estimators=100, random_state=42)\n",
    "model.fit(X_train, y_train)\n",
    "y_pred = model.predict(X_test)\n",
    "\n",
    "mse = mean_squared_error(y_test, y_pred)\n",
    "r2 = r2_score(y_test, y_pred)\n",
    "\n",
    "print(\"Mean Squared Error:\", mse)\n",
    "print(\"R-squared:\", r2)"
   ]
  },
  {
   "cell_type": "code",
   "execution_count": 88,
   "metadata": {},
   "outputs": [],
   "source": [
    "df_final_2[\"TV2\"]=df_final[\"Price\"].shift(-1)"
   ]
  },
  {
   "cell_type": "code",
   "execution_count": 89,
   "metadata": {},
   "outputs": [],
   "source": [
    "df_final_2=df_final.dropna()"
   ]
  },
  {
   "cell_type": "code",
   "execution_count": 90,
   "metadata": {},
   "outputs": [
    {
     "name": "stdout",
     "output_type": "stream",
     "text": [
      "Mean Squared Error: 1254568.499438113\n",
      "R-squared: 0.9957286110735964\n"
     ]
    }
   ],
   "source": [
    "# data frame one without \"ETH Vol.\"\n",
    "data_2 = df_final_2\n",
    "X = data_2.drop(['TV2'], axis=1)  # Drop unnecessary columns\n",
    "y = data_2['TV2']\n",
    "X_train, X_test, y_train, y_test = train_test_split(X, y, test_size=0.2, random_state=42)\n",
    "model = RandomForestRegressor(n_estimators=100, random_state=42)\n",
    "model.fit(X_train, y_train)\n",
    "y_pred = model.predict(X_test)\n",
    "\n",
    "mse = mean_squared_error(y_test, y_pred)\n",
    "r2 = r2_score(y_test, y_pred)\n",
    "\n",
    "print(\"Mean Squared Error:\", mse)\n",
    "print(\"R-squared:\", r2)"
   ]
  },
  {
   "cell_type": "code",
   "execution_count": 91,
   "metadata": {},
   "outputs": [],
   "source": [
    "df_final_3[\"TV2\"]=df_final[\"Price\"].shift(-1)"
   ]
  },
  {
   "cell_type": "code",
   "execution_count": 92,
   "metadata": {},
   "outputs": [],
   "source": [
    "df_final_3=df_final.dropna()"
   ]
  },
  {
   "cell_type": "code",
   "execution_count": 93,
   "metadata": {},
   "outputs": [
    {
     "name": "stdout",
     "output_type": "stream",
     "text": [
      "Mean Squared Error: 1254568.499438113\n",
      "R-squared: 0.9957286110735964\n"
     ]
    }
   ],
   "source": [
    "# data frame one without \"DXY\"\n",
    "data_3 = df_final_3\n",
    "X = data_3.drop(['TV2'], axis=1)  # Drop unnecessary columns\n",
    "y = data_3['TV2']\n",
    "X_train, X_test, y_train, y_test = train_test_split(X, y, test_size=0.2, random_state=42)\n",
    "model = RandomForestRegressor(n_estimators=100, random_state=42)\n",
    "model.fit(X_train, y_train)\n",
    "y_pred = model.predict(X_test)\n",
    "\n",
    "mse = mean_squared_error(y_test, y_pred)\n",
    "r2 = r2_score(y_test, y_pred)\n",
    "\n",
    "print(\"Mean Squared Error:\", mse)\n",
    "print(\"R-squared:\", r2)"
   ]
  },
  {
   "cell_type": "code",
   "execution_count": 94,
   "metadata": {},
   "outputs": [],
   "source": [
    "df_final_4=data.loc[:,[\"Price\",\"Vol.\",\"SN&P Adjusted\",\"GOLD Adjusted\",\"ETH Price\",\"OIL Price Adjusted\"]]"
   ]
  },
  {
   "cell_type": "code",
   "execution_count": 95,
   "metadata": {},
   "outputs": [],
   "source": [
    "df_final_4[\"TV2\"]=df_final[\"Price\"].shift(-1)"
   ]
  },
  {
   "cell_type": "code",
   "execution_count": 96,
   "metadata": {},
   "outputs": [
    {
     "name": "stdout",
     "output_type": "stream",
     "text": [
      "Mean Squared Error: 1254568.499438113\n",
      "R-squared: 0.9957286110735964\n"
     ]
    }
   ],
   "source": [
    "data_4 = df_final\n",
    "data_4 = data_4.dropna(subset=['TV2'])\n",
    "X = data_4.drop(['TV2'], axis=1)\n",
    "y = data_4['TV2']\n",
    "X_train, X_test, y_train, y_test = train_test_split(X, y, test_size=0.2, random_state=42)\n",
    "model = RandomForestRegressor(n_estimators=100, random_state=42)\n",
    "model.fit(X_train, y_train)\n",
    "y_pred = model.predict(X_test)\n",
    "mse = mean_squared_error(y_test, y_pred)\n",
    "r2 = r2_score(y_test, y_pred)\n",
    "\n",
    "print(\"Mean Squared Error:\", mse)\n",
    "print(\"R-squared:\", r2)"
   ]
  },
  {
   "cell_type": "code",
   "execution_count": 97,
   "metadata": {},
   "outputs": [],
   "source": [
    "df_final_co=df_final.drop([\"TV\",\"TV2\"], axis=1)"
   ]
  },
  {
   "cell_type": "code",
   "execution_count": 98,
   "metadata": {},
   "outputs": [],
   "source": [
    "correlations = {}"
   ]
  },
  {
   "cell_type": "code",
   "execution_count": 99,
   "metadata": {},
   "outputs": [
    {
     "data": {
      "text/html": [
       "<div>\n",
       "<style scoped>\n",
       "    .dataframe tbody tr th:only-of-type {\n",
       "        vertical-align: middle;\n",
       "    }\n",
       "\n",
       "    .dataframe tbody tr th {\n",
       "        vertical-align: top;\n",
       "    }\n",
       "\n",
       "    .dataframe thead th {\n",
       "        text-align: right;\n",
       "    }\n",
       "</style>\n",
       "<table border=\"1\" class=\"dataframe\">\n",
       "  <thead>\n",
       "    <tr style=\"text-align: right;\">\n",
       "      <th></th>\n",
       "      <th>Price</th>\n",
       "      <th>Vol.</th>\n",
       "      <th>SN&amp;P Adjusted</th>\n",
       "      <th>DXY Adjusted</th>\n",
       "      <th>GOLD Adjusted</th>\n",
       "      <th>ETH Price</th>\n",
       "      <th>ETH Vol.</th>\n",
       "      <th>OIL Price Adjusted</th>\n",
       "      <th>Days from the last halving</th>\n",
       "    </tr>\n",
       "  </thead>\n",
       "  <tbody>\n",
       "    <tr>\n",
       "      <th>0</th>\n",
       "      <td>64902</td>\n",
       "      <td>45.17</td>\n",
       "      <td>4953.56</td>\n",
       "      <td>105.984</td>\n",
       "      <td>2390.45</td>\n",
       "      <td>3169.62</td>\n",
       "      <td>276.66</td>\n",
       "      <td>83.14</td>\n",
       "      <td>2</td>\n",
       "    </tr>\n",
       "    <tr>\n",
       "      <th>1</th>\n",
       "      <td>64961</td>\n",
       "      <td>49.33</td>\n",
       "      <td>4953.56</td>\n",
       "      <td>105.984</td>\n",
       "      <td>2390.45</td>\n",
       "      <td>3156.63</td>\n",
       "      <td>256.05</td>\n",
       "      <td>83.14</td>\n",
       "      <td>1</td>\n",
       "    </tr>\n",
       "    <tr>\n",
       "      <th>2</th>\n",
       "      <td>63799</td>\n",
       "      <td>150.34</td>\n",
       "      <td>4953.56</td>\n",
       "      <td>105.984</td>\n",
       "      <td>2390.45</td>\n",
       "      <td>3056.23</td>\n",
       "      <td>645.65</td>\n",
       "      <td>83.14</td>\n",
       "      <td>1439</td>\n",
       "    </tr>\n",
       "    <tr>\n",
       "      <th>3</th>\n",
       "      <td>63481</td>\n",
       "      <td>97.38</td>\n",
       "      <td>5001.89</td>\n",
       "      <td>105.982</td>\n",
       "      <td>2378.25</td>\n",
       "      <td>3064.48</td>\n",
       "      <td>423.99</td>\n",
       "      <td>82.73</td>\n",
       "      <td>1438</td>\n",
       "    </tr>\n",
       "    <tr>\n",
       "      <th>4</th>\n",
       "      <td>61278</td>\n",
       "      <td>118.92</td>\n",
       "      <td>5007.25</td>\n",
       "      <td>105.764</td>\n",
       "      <td>2360.81</td>\n",
       "      <td>2985.82</td>\n",
       "      <td>524.88</td>\n",
       "      <td>82.69</td>\n",
       "      <td>1437</td>\n",
       "    </tr>\n",
       "  </tbody>\n",
       "</table>\n",
       "</div>"
      ],
      "text/plain": [
       "   Price    Vol.  SN&P Adjusted  DXY Adjusted  GOLD Adjusted  ETH Price  \\\n",
       "0  64902   45.17        4953.56       105.984        2390.45    3169.62   \n",
       "1  64961   49.33        4953.56       105.984        2390.45    3156.63   \n",
       "2  63799  150.34        4953.56       105.984        2390.45    3056.23   \n",
       "3  63481   97.38        5001.89       105.982        2378.25    3064.48   \n",
       "4  61278  118.92        5007.25       105.764        2360.81    2985.82   \n",
       "\n",
       "   ETH Vol.  OIL Price Adjusted  Days from the last halving  \n",
       "0    276.66               83.14                           2  \n",
       "1    256.05               83.14                           1  \n",
       "2    645.65               83.14                        1439  \n",
       "3    423.99               82.73                        1438  \n",
       "4    524.88               82.69                        1437  "
      ]
     },
     "execution_count": 99,
     "metadata": {},
     "output_type": "execute_result"
    }
   ],
   "source": [
    "df_final_co.head()"
   ]
  },
  {
   "cell_type": "code",
   "execution_count": 100,
   "metadata": {},
   "outputs": [],
   "source": [
    "for param in df_final_co:\n",
    "    correlations[param] = {}\n",
    "    for other_param in df_final_co:\n",
    "        if param != other_param:\n",
    "            correlation = df_final_co[param].corr(df_final_co[other_param])\n",
    "            correlations[param][other_param] = correlation\n"
   ]
  },
  {
   "cell_type": "code",
   "execution_count": 101,
   "metadata": {},
   "outputs": [
    {
     "name": "stdout",
     "output_type": "stream",
     "text": [
      "                               Price      Vol.  SN&P Adjusted  DXY Adjusted  \\\n",
      "Vol.                       -0.316202       NaN      -0.260251      0.019299   \n",
      "SN&P Adjusted               0.892462 -0.260251            NaN      0.443701   \n",
      "DXY Adjusted                0.184601  0.019299       0.443701           NaN   \n",
      "GOLD Adjusted               0.744421 -0.189021       0.883423      0.422473   \n",
      "ETH Price                   0.934978 -0.338168       0.881694      0.247401   \n",
      "ETH Vol.                    0.256124 -0.268795       0.254120      0.176039   \n",
      "OIL Price Adjusted          0.524675 -0.196665       0.633137      0.575840   \n",
      "Days from the last halving  0.076122  0.198030       0.248192      0.612368   \n",
      "Price                            NaN -0.316202       0.892462      0.184601   \n",
      "\n",
      "                            GOLD Adjusted  ETH Price  ETH Vol.  \\\n",
      "Vol.                            -0.189021  -0.338168 -0.268795   \n",
      "SN&P Adjusted                    0.883423   0.881694  0.254120   \n",
      "DXY Adjusted                     0.422473   0.247401  0.176039   \n",
      "GOLD Adjusted                         NaN   0.685626  0.145200   \n",
      "ETH Price                        0.685626        NaN  0.388997   \n",
      "ETH Vol.                         0.145200   0.388997       NaN   \n",
      "OIL Price Adjusted               0.396221   0.626272  0.347563   \n",
      "Days from the last halving       0.163569   0.075174  0.000912   \n",
      "Price                            0.744421   0.934978  0.256124   \n",
      "\n",
      "                            OIL Price Adjusted  Days from the last halving  \n",
      "Vol.                                 -0.196665                    0.198030  \n",
      "SN&P Adjusted                         0.633137                    0.248192  \n",
      "DXY Adjusted                          0.575840                    0.612368  \n",
      "GOLD Adjusted                         0.396221                    0.163569  \n",
      "ETH Price                             0.626272                    0.075174  \n",
      "ETH Vol.                              0.347563                    0.000912  \n",
      "OIL Price Adjusted                         NaN                    0.278853  \n",
      "Days from the last halving            0.278853                         NaN  \n",
      "Price                                 0.524675                    0.076122  \n"
     ]
    }
   ],
   "source": [
    "for param, corr in correlations.items():\n",
    "    for other_param, value in corr.items():\n",
    "        correlation_df = pd.DataFrame(correlations)\n",
    "print(correlation_df)"
   ]
  },
  {
   "cell_type": "code",
   "execution_count": 102,
   "metadata": {},
   "outputs": [
    {
     "name": "stdout",
     "output_type": "stream",
     "text": [
      "Correlation: 0.07517354474253866\n"
     ]
    }
   ],
   "source": [
    "correlation = df_final['Days from the last halving'].corr(df_final['ETH Price'])\n",
    "print(\"Correlation:\", correlation)"
   ]
  },
  {
   "cell_type": "code",
   "execution_count": 103,
   "metadata": {},
   "outputs": [],
   "source": [
    "df_final_5=df_final.drop([\"SN&P Adjusted\"], axis=1)"
   ]
  },
  {
   "cell_type": "code",
   "execution_count": 104,
   "metadata": {},
   "outputs": [
    {
     "name": "stdout",
     "output_type": "stream",
     "text": [
      "Mean Squared Error: 1283283.162054717\n",
      "R-squared: 0.9956308471874628\n"
     ]
    }
   ],
   "source": [
    "data_5 = df_final_5\n",
    "X = data_5.drop(['TV2'], axis=1)\n",
    "y = data_5['TV2']\n",
    "X_train, X_test, y_train, y_test = train_test_split(X, y, test_size=0.2, random_state=42)\n",
    "model = RandomForestRegressor(n_estimators=100, random_state=42)\n",
    "model.fit(X_train, y_train)\n",
    "y_pred = model.predict(X_test)\n",
    "mse = mean_squared_error(y_test, y_pred)\n",
    "r2 = r2_score(y_test, y_pred)\n",
    "\n",
    "print(\"Mean Squared Error:\", mse)\n",
    "print(\"R-squared:\", r2)"
   ]
  },
  {
   "cell_type": "code",
   "execution_count": 105,
   "metadata": {},
   "outputs": [],
   "source": [
    "df_final_6=df_final.drop([\"GOLD Adjusted\"], axis=1)"
   ]
  },
  {
   "cell_type": "code",
   "execution_count": 106,
   "metadata": {},
   "outputs": [
    {
     "name": "stdout",
     "output_type": "stream",
     "text": [
      "Mean Squared Error: 1250771.788246415\n",
      "R-squared: 0.9957415376137959\n"
     ]
    }
   ],
   "source": [
    "data_6 = df_final_6\n",
    "X = data_6.drop(['TV2'], axis=1)\n",
    "y = data_6['TV2']\n",
    "X_train, X_test, y_train, y_test = train_test_split(X, y, test_size=0.2, random_state=42)\n",
    "model = RandomForestRegressor(n_estimators=100, random_state=42)\n",
    "model.fit(X_train, y_train)\n",
    "y_pred = model.predict(X_test)\n",
    "mse = mean_squared_error(y_test, y_pred)\n",
    "r2 = r2_score(y_test, y_pred)\n",
    "\n",
    "print(\"Mean Squared Error:\", mse)\n",
    "print(\"R-squared:\", r2)"
   ]
  },
  {
   "cell_type": "code",
   "execution_count": 107,
   "metadata": {},
   "outputs": [],
   "source": [
    "df_final_7=df_final.drop([\"ETH Price\"], axis=1)"
   ]
  },
  {
   "cell_type": "code",
   "execution_count": 108,
   "metadata": {},
   "outputs": [
    {
     "name": "stdout",
     "output_type": "stream",
     "text": [
      "Mean Squared Error: 1267134.8142962265\n",
      "R-squared: 0.9956858269465004\n"
     ]
    }
   ],
   "source": [
    "data_7 = df_final_7\n",
    "X = data_7.drop(['TV2'], axis=1)\n",
    "y = data_7['TV2']\n",
    "X_train, X_test, y_train, y_test = train_test_split(X, y, test_size=0.2, random_state=42)\n",
    "model = RandomForestRegressor(n_estimators=100, random_state=42)\n",
    "model.fit(X_train, y_train)\n",
    "y_pred = model.predict(X_test)\n",
    "mse = mean_squared_error(y_test, y_pred)\n",
    "r2 = r2_score(y_test, y_pred)\n",
    "\n",
    "print(\"Mean Squared Error:\", mse)\n",
    "print(\"R-squared:\", r2)"
   ]
  },
  {
   "cell_type": "code",
   "execution_count": 109,
   "metadata": {},
   "outputs": [],
   "source": [
    "df_final_8=df_final.drop([\"OIL Price Adjusted\"], axis=1)"
   ]
  },
  {
   "cell_type": "code",
   "execution_count": 110,
   "metadata": {},
   "outputs": [
    {
     "name": "stdout",
     "output_type": "stream",
     "text": [
      "Mean Squared Error: 1287838.6350779245\n",
      "R-squared: 0.9956153373153158\n"
     ]
    }
   ],
   "source": [
    "data_8 = df_final_8\n",
    "X = data_8.drop(['TV2'], axis=1)\n",
    "y = data_8['TV2']\n",
    "X_train, X_test, y_train, y_test = train_test_split(X, y, test_size=0.2, random_state=42)\n",
    "model = RandomForestRegressor(n_estimators=100, random_state=42)\n",
    "model.fit(X_train, y_train)\n",
    "y_pred = model.predict(X_test)\n",
    "mse = mean_squared_error(y_test, y_pred)\n",
    "r2 = r2_score(y_test, y_pred)\n",
    "\n",
    "print(\"Mean Squared Error:\", mse)\n",
    "print(\"R-squared:\", r2)"
   ]
  },
  {
   "cell_type": "code",
   "execution_count": 111,
   "metadata": {},
   "outputs": [],
   "source": [
    "df_final_9=df_final.drop([\"Days from the last halving\"], axis=1)"
   ]
  },
  {
   "cell_type": "code",
   "execution_count": 112,
   "metadata": {},
   "outputs": [
    {
     "name": "stdout",
     "output_type": "stream",
     "text": [
      "Mean Squared Error: 1260466.1528777361\n",
      "R-squared: 0.9957085315230537\n"
     ]
    }
   ],
   "source": [
    "data_9 = df_final_9\n",
    "X = data_9.drop(['TV2'], axis=1)\n",
    "y = data_9['TV2']\n",
    "X_train, X_test, y_train, y_test = train_test_split(X, y, test_size=0.2, random_state=42)\n",
    "model = RandomForestRegressor(n_estimators=100, random_state=42)\n",
    "model.fit(X_train, y_train)\n",
    "y_pred = model.predict(X_test)\n",
    "mse = mean_squared_error(y_test, y_pred)\n",
    "r2 = r2_score(y_test, y_pred)\n",
    "\n",
    "print(\"Mean Squared Error:\", mse)\n",
    "print(\"R-squared:\", r2)"
   ]
  },
  {
   "cell_type": "code",
   "execution_count": 113,
   "metadata": {},
   "outputs": [],
   "source": [
    "np.random.seed(42)\n",
    "X = data.drop(['TV2','TV'], axis=1)\n",
    "y = data['TV2']"
   ]
  },
  {
   "cell_type": "code",
   "execution_count": 114,
   "metadata": {},
   "outputs": [],
   "source": [
    "x2=data.iloc[[-1]]"
   ]
  },
  {
   "cell_type": "code",
   "execution_count": 115,
   "metadata": {},
   "outputs": [],
   "source": [
    "\n",
    "\n",
    "# הגדרת מודל SVR עם גרעין לינארי, פולינומי וגרעין RBF\n",
    "# svr_rbf = SVR(kernel='rbf', C=100, gamma=0.1, epsilon=0.1)\n",
    "# svr_poly = SVR(kernel='poly', C=100, degree=3, epsilon=0.1, coef0=1)\n",
    "svr_lin = SVR(kernel='linear', C=100, epsilon=0.1)\n",
    "\n",
    "\n",
    "# אימון המודלים על הנתונים\n",
    "# y_rbf = svr_rbf.fit(X, y).predict(X)\n",
    "# y_poly = svr_poly.fit(X, y).predict(X)\n",
    "y_lin = svr_lin.fit(X, y).predict(X)\n"
   ]
  }
 ],
 "metadata": {
  "kernelspec": {
   "display_name": "crypto",
   "language": "python",
   "name": "python3"
  },
  "language_info": {
   "codemirror_mode": {
    "name": "ipython",
    "version": 3
   },
   "file_extension": ".py",
   "mimetype": "text/x-python",
   "name": "python",
   "nbconvert_exporter": "python",
   "pygments_lexer": "ipython3",
   "version": "3.9.13"
  }
 },
 "nbformat": 4,
 "nbformat_minor": 2
}
